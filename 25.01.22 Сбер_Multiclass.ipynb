{
 "cells": [
  {
   "cell_type": "code",
   "execution_count": 41,
   "metadata": {},
   "outputs": [],
   "source": [
    "import pandas as pd\n",
    "import numpy as np \n",
    "import matplotlib.pyplot as plt\n",
    "import seaborn as sns \n",
    "sns.set_style(style=\"whitegrid\")\n",
    "sns.set_color_codes()"
   ]
  },
  {
   "cell_type": "markdown",
   "metadata": {},
   "source": [
    "Я понял так, что первые 12 признаков, в полученой таблице, у нас описательные, а все остальные целевые. Если это не соответствует действительности, то все что написано дальше можно не читать.\n",
    "\n",
    "Для предварительной простоты примем задачу в которой нам нужно по 12 признакам предсказать какое отношение будет иметь человек к целевому признаку напрмер 24 (один мой знакомец, по студенчеству, был героиновым наркоманом). \n",
    "\n",
    "В признаке 24 есть следующие классы:\n",
    "CL0 Никогда не употреблял,\n",
    "CL2 Использовал в последнее десятилетие, \n",
    "CL3 Использовал в прошлом году, \n",
    "CL4 Использовал в прошлом месяце, \n",
    "CL5 Использовал на прошлой неделе, \n",
    "CL6 Использовал в последний день."
   ]
  },
  {
   "cell_type": "code",
   "execution_count": 42,
   "metadata": {},
   "outputs": [
    {
     "data": {
      "text/html": [
       "<div>\n",
       "<style scoped>\n",
       "    .dataframe tbody tr th:only-of-type {\n",
       "        vertical-align: middle;\n",
       "    }\n",
       "\n",
       "    .dataframe tbody tr th {\n",
       "        vertical-align: top;\n",
       "    }\n",
       "\n",
       "    .dataframe thead th {\n",
       "        text-align: right;\n",
       "    }\n",
       "</style>\n",
       "<table border=\"1\" class=\"dataframe\">\n",
       "  <thead>\n",
       "    <tr style=\"text-align: right;\">\n",
       "      <th></th>\n",
       "      <th>1</th>\n",
       "      <th>2</th>\n",
       "      <th>3</th>\n",
       "      <th>4</th>\n",
       "      <th>5</th>\n",
       "      <th>6</th>\n",
       "      <th>7</th>\n",
       "      <th>8</th>\n",
       "      <th>9</th>\n",
       "      <th>10</th>\n",
       "      <th>11</th>\n",
       "      <th>12</th>\n",
       "      <th>24</th>\n",
       "    </tr>\n",
       "    <tr>\n",
       "      <th>0</th>\n",
       "      <th></th>\n",
       "      <th></th>\n",
       "      <th></th>\n",
       "      <th></th>\n",
       "      <th></th>\n",
       "      <th></th>\n",
       "      <th></th>\n",
       "      <th></th>\n",
       "      <th></th>\n",
       "      <th></th>\n",
       "      <th></th>\n",
       "      <th></th>\n",
       "      <th></th>\n",
       "    </tr>\n",
       "  </thead>\n",
       "  <tbody>\n",
       "    <tr>\n",
       "      <th>1</th>\n",
       "      <td>0.49788</td>\n",
       "      <td>0.48246</td>\n",
       "      <td>-0.05921</td>\n",
       "      <td>0.96082</td>\n",
       "      <td>0.12600</td>\n",
       "      <td>0.31287</td>\n",
       "      <td>-0.57545</td>\n",
       "      <td>-0.58331</td>\n",
       "      <td>-0.91699</td>\n",
       "      <td>-0.00665</td>\n",
       "      <td>-0.21712</td>\n",
       "      <td>-1.18084</td>\n",
       "      <td>CL0</td>\n",
       "    </tr>\n",
       "    <tr>\n",
       "      <th>2</th>\n",
       "      <td>-0.07854</td>\n",
       "      <td>-0.48246</td>\n",
       "      <td>1.98437</td>\n",
       "      <td>0.96082</td>\n",
       "      <td>-0.31685</td>\n",
       "      <td>-0.67825</td>\n",
       "      <td>1.93886</td>\n",
       "      <td>1.43533</td>\n",
       "      <td>0.76096</td>\n",
       "      <td>-0.14277</td>\n",
       "      <td>-0.71126</td>\n",
       "      <td>-0.21575</td>\n",
       "      <td>CL2</td>\n",
       "    </tr>\n",
       "    <tr>\n",
       "      <th>3</th>\n",
       "      <td>0.49788</td>\n",
       "      <td>-0.48246</td>\n",
       "      <td>-0.05921</td>\n",
       "      <td>0.96082</td>\n",
       "      <td>-0.31685</td>\n",
       "      <td>-0.46725</td>\n",
       "      <td>0.80523</td>\n",
       "      <td>-0.84732</td>\n",
       "      <td>-1.62090</td>\n",
       "      <td>-1.01450</td>\n",
       "      <td>-1.37983</td>\n",
       "      <td>0.40148</td>\n",
       "      <td>CL0</td>\n",
       "    </tr>\n",
       "    <tr>\n",
       "      <th>4</th>\n",
       "      <td>-0.95197</td>\n",
       "      <td>0.48246</td>\n",
       "      <td>1.16365</td>\n",
       "      <td>0.96082</td>\n",
       "      <td>-0.31685</td>\n",
       "      <td>-0.14882</td>\n",
       "      <td>-0.80615</td>\n",
       "      <td>-0.01928</td>\n",
       "      <td>0.59042</td>\n",
       "      <td>0.58489</td>\n",
       "      <td>-1.37983</td>\n",
       "      <td>-1.18084</td>\n",
       "      <td>CL2</td>\n",
       "    </tr>\n",
       "    <tr>\n",
       "      <th>5</th>\n",
       "      <td>0.49788</td>\n",
       "      <td>0.48246</td>\n",
       "      <td>1.98437</td>\n",
       "      <td>0.96082</td>\n",
       "      <td>-0.31685</td>\n",
       "      <td>0.73545</td>\n",
       "      <td>-1.63340</td>\n",
       "      <td>-0.45174</td>\n",
       "      <td>-0.30172</td>\n",
       "      <td>1.30612</td>\n",
       "      <td>-0.21712</td>\n",
       "      <td>-0.21575</td>\n",
       "      <td>CL0</td>\n",
       "    </tr>\n",
       "  </tbody>\n",
       "</table>\n",
       "</div>"
      ],
      "text/plain": [
       "        1        2        3        4        5        6        7        8   \\\n",
       "0                                                                           \n",
       "1  0.49788  0.48246 -0.05921  0.96082  0.12600  0.31287 -0.57545 -0.58331   \n",
       "2 -0.07854 -0.48246  1.98437  0.96082 -0.31685 -0.67825  1.93886  1.43533   \n",
       "3  0.49788 -0.48246 -0.05921  0.96082 -0.31685 -0.46725  0.80523 -0.84732   \n",
       "4 -0.95197  0.48246  1.16365  0.96082 -0.31685 -0.14882 -0.80615 -0.01928   \n",
       "5  0.49788  0.48246  1.98437  0.96082 -0.31685  0.73545 -1.63340 -0.45174   \n",
       "\n",
       "        9        10       11       12   24  \n",
       "0                                           \n",
       "1 -0.91699 -0.00665 -0.21712 -1.18084  CL0  \n",
       "2  0.76096 -0.14277 -0.71126 -0.21575  CL2  \n",
       "3 -1.62090 -1.01450 -1.37983  0.40148  CL0  \n",
       "4  0.59042  0.58489 -1.37983 -1.18084  CL2  \n",
       "5 -0.30172  1.30612 -0.21712 -0.21575  CL0  "
      ]
     },
     "execution_count": 42,
     "metadata": {},
     "output_type": "execute_result"
    }
   ],
   "source": [
    "data=pd.read_csv('drug_consumption.data',  header=None, index_col=0)\n",
    "# удалим целевые признаки с которыми не работаем\n",
    "data.drop(columns=[13,14,15,16,17,18,19,20,21,22,23,25,26,27,28,29,30,31], axis=1, inplace=True)\n",
    "data.head()"
   ]
  },
  {
   "cell_type": "code",
   "execution_count": 43,
   "metadata": {},
   "outputs": [
    {
     "name": "stdout",
     "output_type": "stream",
     "text": [
      "<class 'pandas.core.frame.DataFrame'>\n",
      "Int64Index: 1885 entries, 1 to 1888\n",
      "Data columns (total 13 columns):\n",
      " #   Column  Non-Null Count  Dtype  \n",
      "---  ------  --------------  -----  \n",
      " 0   1       1885 non-null   float64\n",
      " 1   2       1885 non-null   float64\n",
      " 2   3       1885 non-null   float64\n",
      " 3   4       1885 non-null   float64\n",
      " 4   5       1885 non-null   float64\n",
      " 5   6       1885 non-null   float64\n",
      " 6   7       1885 non-null   float64\n",
      " 7   8       1885 non-null   float64\n",
      " 8   9       1885 non-null   float64\n",
      " 9   10      1885 non-null   float64\n",
      " 10  11      1885 non-null   float64\n",
      " 11  12      1885 non-null   float64\n",
      " 12  24      1885 non-null   object \n",
      "dtypes: float64(12), object(1)\n",
      "memory usage: 206.2+ KB\n"
     ]
    }
   ],
   "source": [
    "# посмотрим на признаки\n",
    "data.info()"
   ]
  },
  {
   "cell_type": "code",
   "execution_count": 44,
   "metadata": {},
   "outputs": [
    {
     "data": {
      "text/plain": [
       "1      6\n",
       "2      2\n",
       "3      9\n",
       "4      7\n",
       "5      7\n",
       "6     49\n",
       "7     42\n",
       "8     35\n",
       "9     41\n",
       "10    41\n",
       "11    10\n",
       "12    11\n",
       "24     7\n",
       "dtype: int64"
      ]
     },
     "execution_count": 44,
     "metadata": {},
     "output_type": "execute_result"
    }
   ],
   "source": [
    "data.nunique()"
   ]
  },
  {
   "cell_type": "markdown",
   "metadata": {},
   "source": [
    "В описании к задаче указано: \"После количественной оценки значения всех входных признаков можно считать вещественными\", я бы усомнился... 2Пол, 3образование, 4страна, 5этнос - как ни крути остаются категориальными, 1Age, 6Neuroticism, 7Extraversion, 8Openness, 9Agreeableness, 10Conscientiousness, 11impulsiveness, 12sensation - по описанию скорее порядковые. Посмотрим на признаки."
   ]
  },
  {
   "cell_type": "markdown",
   "metadata": {},
   "source": [
    "Обращаем внимание на то что классы не сбалансированы."
   ]
  },
  {
   "cell_type": "code",
   "execution_count": 45,
   "metadata": {},
   "outputs": [
    {
     "data": {
      "text/plain": [
       "CL0    1490\n",
       "CL2     142\n",
       "CL3     129\n",
       "CL1      45\n",
       "CL4      42\n",
       "CL5      33\n",
       "CL6       4\n",
       "Name: 24, dtype: int64"
      ]
     },
     "execution_count": 45,
     "metadata": {},
     "output_type": "execute_result"
    }
   ],
   "source": [
    "\n",
    "data[24].value_counts()"
   ]
  },
  {
   "cell_type": "code",
   "execution_count": 46,
   "metadata": {},
   "outputs": [
    {
     "data": {
      "text/plain": [
       "<AxesSubplot:xlabel='24', ylabel='Count'>"
      ]
     },
     "execution_count": 46,
     "metadata": {},
     "output_type": "execute_result"
    },
    {
     "data": {
      "image/png": "[encoded data removed]",
      "text/plain": [
       "<Figure size 432x288 with 1 Axes>"
      ]
     },
     "metadata": {},
     "output_type": "display_data"
    }
   ],
   "source": [
    "sns.histplot(data[24])"
   ]
  },
  {
   "cell_type": "markdown",
   "metadata": {},
   "source": [
    "...ну будто бы \"не плохо\"/умерено положительно коррелирут 11 и 12 признаки, честно сказать не вижу что из этоно можно извлечь..., скорее/пока взять на карандаш...(последующие эксперименты покаазли, что отказ от любого из них приводит к ухудшению качества любой модели)"
   ]
  },
  {
   "cell_type": "code",
   "execution_count": 47,
   "metadata": {},
   "outputs": [
    {
     "data": {
      "image/png": "[encoded data removed]",
      "text/plain": [
       "<Figure size 648x432 with 2 Axes>"
      ]
     },
     "metadata": {},
     "output_type": "display_data"
    }
   ],
   "source": [
    "#  корреляции признаков\n",
    "corr = data.corr(method='spearman')\n",
    "f,ax = plt.subplots(figsize=(9,6))\n",
    "sns.heatmap(corr, annot = True, linewidths=1.5 , fmt = '.2f',ax=ax)\n",
    "plt.show()"
   ]
  },
  {
   "cell_type": "markdown",
   "metadata": {},
   "source": [
    "Смотрим гистоплоты по всем фичам и видим 2,4,12 - чисто, 1,3,5,6,7,8,9,10,11 - могут быть выбросы. Кроме того, распределения данных нельзя считать нормальными, хотя некоторые быть может и близки (все гистограммы не вывожу, слишком загромождают ноутбук, досттаточно глазками посмотреть 1 раз, сделать выводы и пометки)."
   ]
  },
  {
   "cell_type": "code",
   "execution_count": 48,
   "metadata": {},
   "outputs": [
    {
     "data": {
      "text/plain": [
       "<AxesSubplot:xlabel='8', ylabel='Count'>"
      ]
     },
     "execution_count": 48,
     "metadata": {},
     "output_type": "execute_result"
    },
    {
     "data": {
      "image/png": "[encoded data removed]",
      "text/plain": [
       "<Figure size 432x288 with 1 Axes>"
      ]
     },
     "metadata": {},
     "output_type": "display_data"
    }
   ],
   "source": [
    "sns.histplot(data[8])"
   ]
  },
  {
   "cell_type": "markdown",
   "metadata": {},
   "source": [
    "Попробуем найти/оценить выбросы в наших данных."
   ]
  },
  {
   "cell_type": "code",
   "execution_count": 49,
   "metadata": {},
   "outputs": [],
   "source": [
    "# Опишем функцию построения доверительного интервала (хотя мне кажется это по другому называется)\n",
    "def confid_int(data, alfa):        \n",
    "    #вариант с сигмами\n",
    "    #x_min=round(data.mean()-alfa*statistics.stdev(data))\n",
    "    #x_max=round(data.mean()+alfa*statistics.stdev(data))  \n",
    "    # Выбираем непараметрику - вариант с процентилями\n",
    "    a=1.5\n",
    "    q25=data.quantile(0.25)\n",
    "    q75=data.quantile(0.75)\n",
    "    iqr=q75-q25\n",
    "    x_min=q25-a*iqr\n",
    "    x_max=q75+a*iqr\n",
    "    return(x_min, x_max, round(data.median()))"
   ]
  },
  {
   "cell_type": "code",
   "execution_count": 50,
   "metadata": {},
   "outputs": [
    {
     "data": {
      "text/plain": [
       "(265, 13)"
      ]
     },
     "execution_count": 50,
     "metadata": {},
     "output_type": "execute_result"
    }
   ],
   "source": [
    "# найдем все строки в данных которые причисляются к выбросам\n",
    "out_data=pd.DataFrame()\n",
    "for i in range(1,data.shape[1]):\n",
    "    ci=confid_int(data[i], 3)\n",
    "    out_data=out_data.append(data[data[i]<ci[0]])\n",
    "    out_data=out_data.append(data[data[i]>ci[1]])\n",
    "# удалим повторяющиеся\n",
    "out_data=out_data.drop_duplicates()\n",
    "out_data.shape"
   ]
  },
  {
   "cell_type": "markdown",
   "metadata": {},
   "source": [
    "\"В лоб\" получается что в наших 1885 записях 265 выбросов... Много! Жалко! можно попорбовать, по результатам работы моделей, поколдовать с коэфицентом а=1.5.... (по результатам работы моделей 1,5 оптимально, уменьшение и увеличее этого коэфицента приводит к ухудшению качества модели, кроме того обращаем внимание на то, что после отказа от выбросов в данных у нас фактически отвалилась 5 фича и действительно если посмотреть на ее структуру то окажется что наши данные собраны в основном (91.25%) для светлокожего населения, т.е. других/остальных (ососбенно посомтря на распределение) нет смысла рассматривать)"
   ]
  },
  {
   "cell_type": "code",
   "execution_count": 51,
   "metadata": {},
   "outputs": [],
   "source": [
    "# удалим из данных найденые выбросы\n",
    "data=data[np.logical_not(data.isin(out_data))].dropna()"
   ]
  },
  {
   "cell_type": "markdown",
   "metadata": {},
   "source": [
    "Еще раз, после чистки, посмтрим на распределение в целевой переменной."
   ]
  },
  {
   "cell_type": "code",
   "execution_count": 52,
   "metadata": {},
   "outputs": [
    {
     "data": {
      "text/plain": [
       "<AxesSubplot:xlabel='24', ylabel='Count'>"
      ]
     },
     "execution_count": 52,
     "metadata": {},
     "output_type": "execute_result"
    },
    {
     "data": {
      "image/png": "[encoded data removed]",
      "text/plain": [
       "<Figure size 432x288 with 1 Axes>"
      ]
     },
     "metadata": {},
     "output_type": "display_data"
    }
   ],
   "source": [
    "sns.histplot(data[24])"
   ]
  },
  {
   "cell_type": "code",
   "execution_count": 53,
   "metadata": {},
   "outputs": [
    {
     "data": {
      "text/plain": [
       "CL0    1280\n",
       "CL2     128\n",
       "CL3     108\n",
       "CL1      40\n",
       "CL4      36\n",
       "CL5      24\n",
       "CL6       4\n",
       "Name: 24, dtype: int64"
      ]
     },
     "execution_count": 53,
     "metadata": {},
     "output_type": "execute_result"
    }
   ],
   "source": [
    "data[24].value_counts()"
   ]
  },
  {
   "cell_type": "markdown",
   "metadata": {},
   "source": [
    "Усомнимся в нормализованности наших данных. Да, действительно не будет лишним нормализовать вещественные данные нашего датафрейма."
   ]
  },
  {
   "cell_type": "code",
   "execution_count": 54,
   "metadata": {},
   "outputs": [
    {
     "data": {
      "text/html": [
       "<div>\n",
       "<style scoped>\n",
       "    .dataframe tbody tr th:only-of-type {\n",
       "        vertical-align: middle;\n",
       "    }\n",
       "\n",
       "    .dataframe tbody tr th {\n",
       "        vertical-align: top;\n",
       "    }\n",
       "\n",
       "    .dataframe thead th {\n",
       "        text-align: right;\n",
       "    }\n",
       "</style>\n",
       "<table border=\"1\" class=\"dataframe\">\n",
       "  <thead>\n",
       "    <tr style=\"text-align: right;\">\n",
       "      <th></th>\n",
       "      <th>1</th>\n",
       "      <th>2</th>\n",
       "      <th>3</th>\n",
       "      <th>4</th>\n",
       "      <th>5</th>\n",
       "      <th>6</th>\n",
       "      <th>7</th>\n",
       "      <th>8</th>\n",
       "      <th>9</th>\n",
       "      <th>10</th>\n",
       "      <th>11</th>\n",
       "      <th>12</th>\n",
       "    </tr>\n",
       "  </thead>\n",
       "  <tbody>\n",
       "    <tr>\n",
       "      <th>count</th>\n",
       "      <td>1620.000000</td>\n",
       "      <td>1.620000e+03</td>\n",
       "      <td>1620.000000</td>\n",
       "      <td>1620.000000</td>\n",
       "      <td>1.620000e+03</td>\n",
       "      <td>1620.000000</td>\n",
       "      <td>1620.000000</td>\n",
       "      <td>1620.000000</td>\n",
       "      <td>1620.000000</td>\n",
       "      <td>1620.000000</td>\n",
       "      <td>1620.000000</td>\n",
       "      <td>1620.000000</td>\n",
       "    </tr>\n",
       "    <tr>\n",
       "      <th>mean</th>\n",
       "      <td>0.063028</td>\n",
       "      <td>-6.853229e-20</td>\n",
       "      <td>0.027249</td>\n",
       "      <td>0.384584</td>\n",
       "      <td>-3.168500e-01</td>\n",
       "      <td>-0.018586</td>\n",
       "      <td>0.012942</td>\n",
       "      <td>-0.011997</td>\n",
       "      <td>0.007431</td>\n",
       "      <td>0.008713</td>\n",
       "      <td>-0.019993</td>\n",
       "      <td>-0.020086</td>\n",
       "    </tr>\n",
       "    <tr>\n",
       "      <th>std</th>\n",
       "      <td>0.876790</td>\n",
       "      <td>4.826090e-01</td>\n",
       "      <td>0.908533</td>\n",
       "      <td>0.691895</td>\n",
       "      <td>8.440300e-15</td>\n",
       "      <td>0.955818</td>\n",
       "      <td>0.943952</td>\n",
       "      <td>0.975434</td>\n",
       "      <td>0.978008</td>\n",
       "      <td>0.940901</td>\n",
       "      <td>0.942329</td>\n",
       "      <td>0.947080</td>\n",
       "    </tr>\n",
       "    <tr>\n",
       "      <th>min</th>\n",
       "      <td>-0.951970</td>\n",
       "      <td>-4.824600e-01</td>\n",
       "      <td>-1.737900</td>\n",
       "      <td>-0.570090</td>\n",
       "      <td>-3.168500e-01</td>\n",
       "      <td>-2.521970</td>\n",
       "      <td>-2.538300</td>\n",
       "      <td>-2.859500</td>\n",
       "      <td>-2.538300</td>\n",
       "      <td>-2.423170</td>\n",
       "      <td>-2.555240</td>\n",
       "      <td>-2.078480</td>\n",
       "    </tr>\n",
       "    <tr>\n",
       "      <th>25%</th>\n",
       "      <td>-0.951970</td>\n",
       "      <td>-4.824600e-01</td>\n",
       "      <td>-0.611130</td>\n",
       "      <td>-0.570090</td>\n",
       "      <td>-3.168500e-01</td>\n",
       "      <td>-0.678250</td>\n",
       "      <td>-0.575450</td>\n",
       "      <td>-0.717270</td>\n",
       "      <td>-0.606330</td>\n",
       "      <td>-0.652530</td>\n",
       "      <td>-0.711260</td>\n",
       "      <td>-0.525930</td>\n",
       "    </tr>\n",
       "    <tr>\n",
       "      <th>50%</th>\n",
       "      <td>-0.078540</td>\n",
       "      <td>0.000000e+00</td>\n",
       "      <td>-0.059210</td>\n",
       "      <td>0.960820</td>\n",
       "      <td>-3.168500e-01</td>\n",
       "      <td>-0.051880</td>\n",
       "      <td>0.003320</td>\n",
       "      <td>-0.019280</td>\n",
       "      <td>-0.017290</td>\n",
       "      <td>-0.006650</td>\n",
       "      <td>-0.217120</td>\n",
       "      <td>0.079870</td>\n",
       "    </tr>\n",
       "    <tr>\n",
       "      <th>75%</th>\n",
       "      <td>0.497880</td>\n",
       "      <td>4.824600e-01</td>\n",
       "      <td>0.454680</td>\n",
       "      <td>0.960820</td>\n",
       "      <td>-3.168500e-01</td>\n",
       "      <td>0.629670</td>\n",
       "      <td>0.637790</td>\n",
       "      <td>0.723300</td>\n",
       "      <td>0.590420</td>\n",
       "      <td>0.584890</td>\n",
       "      <td>0.529750</td>\n",
       "      <td>0.765400</td>\n",
       "    </tr>\n",
       "    <tr>\n",
       "      <th>max</th>\n",
       "      <td>2.591710</td>\n",
       "      <td>4.824600e-01</td>\n",
       "      <td>1.984370</td>\n",
       "      <td>0.960820</td>\n",
       "      <td>-3.168500e-01</td>\n",
       "      <td>2.462620</td>\n",
       "      <td>2.573090</td>\n",
       "      <td>2.449040</td>\n",
       "      <td>2.756960</td>\n",
       "      <td>2.333370</td>\n",
       "      <td>1.862030</td>\n",
       "      <td>1.921730</td>\n",
       "    </tr>\n",
       "  </tbody>\n",
       "</table>\n",
       "</div>"
      ],
      "text/plain": [
       "                1             2            3            4             5   \\\n",
       "count  1620.000000  1.620000e+03  1620.000000  1620.000000  1.620000e+03   \n",
       "mean      0.063028 -6.853229e-20     0.027249     0.384584 -3.168500e-01   \n",
       "std       0.876790  4.826090e-01     0.908533     0.691895  8.440300e-15   \n",
       "min      -0.951970 -4.824600e-01    -1.737900    -0.570090 -3.168500e-01   \n",
       "25%      -0.951970 -4.824600e-01    -0.611130    -0.570090 -3.168500e-01   \n",
       "50%      -0.078540  0.000000e+00    -0.059210     0.960820 -3.168500e-01   \n",
       "75%       0.497880  4.824600e-01     0.454680     0.960820 -3.168500e-01   \n",
       "max       2.591710  4.824600e-01     1.984370     0.960820 -3.168500e-01   \n",
       "\n",
       "                6            7            8            9            10  \\\n",
       "count  1620.000000  1620.000000  1620.000000  1620.000000  1620.000000   \n",
       "mean     -0.018586     0.012942    -0.011997     0.007431     0.008713   \n",
       "std       0.955818     0.943952     0.975434     0.978008     0.940901   \n",
       "min      -2.521970    -2.538300    -2.859500    -2.538300    -2.423170   \n",
       "25%      -0.678250    -0.575450    -0.717270    -0.606330    -0.652530   \n",
       "50%      -0.051880     0.003320    -0.019280    -0.017290    -0.006650   \n",
       "75%       0.629670     0.637790     0.723300     0.590420     0.584890   \n",
       "max       2.462620     2.573090     2.449040     2.756960     2.333370   \n",
       "\n",
       "                11           12  \n",
       "count  1620.000000  1620.000000  \n",
       "mean     -0.019993    -0.020086  \n",
       "std       0.942329     0.947080  \n",
       "min      -2.555240    -2.078480  \n",
       "25%      -0.711260    -0.525930  \n",
       "50%      -0.217120     0.079870  \n",
       "75%       0.529750     0.765400  \n",
       "max       1.862030     1.921730  "
      ]
     },
     "execution_count": 54,
     "metadata": {},
     "output_type": "execute_result"
    }
   ],
   "source": [
    "data.describe()"
   ]
  },
  {
   "cell_type": "markdown",
   "metadata": {},
   "source": [
    "Станем считать что признаки 2,3,4,5 - категориальные, остальные вещественные. Перекодируем наши категориальные признаки и нормализуем вещественные данные."
   ]
  },
  {
   "cell_type": "code",
   "execution_count": 55,
   "metadata": {},
   "outputs": [],
   "source": [
    "#X=data.drop(columns=[24], axis=1)\n",
    "#y=data[24]\n",
    "#x_temp=X[[2,3,4,5]].astype(str)\n",
    "#x_temp=pd.get_dummies(x_temp, prefix_sep='_', drop_first=True)\n",
    "#X.drop(columns=[2,3,4,5], axis=1, inplace=True)\n",
    "#X=pd.concat([X,x_temp], axis=1)\n"
   ]
  },
  {
   "cell_type": "code",
   "execution_count": 56,
   "metadata": {},
   "outputs": [],
   "source": [
    "from sklearn import preprocessing\n",
    "X=data.drop(columns=[24], axis=1).astype('float')\n",
    "y=data[24]\n",
    "x_temp=X[[2,3,4,5]].astype(str)\n",
    "x_temp=pd.get_dummies(x_temp, prefix_sep='_', drop_first=True)\n",
    "X.drop(columns=[2,3,4,5], axis=1, inplace=True)\n",
    "# нормализуем вещ.данные\n",
    "scaler = preprocessing.MinMaxScaler()\n",
    "d = scaler.fit_transform(X)\n",
    "X = pd.DataFrame(d)\n",
    "# след.две строки нормализуют перекодированные данные, по сути ничего не меняют, но позволяют\n",
    "# потом без проблем/корректно pd.concat вещественные и категориальные фичи \n",
    "d = scaler.fit_transform(x_temp)\n",
    "x_temp = pd.DataFrame(d)\n",
    "\n",
    "X=pd.concat([X,x_temp], axis=1)"
   ]
  },
  {
   "cell_type": "markdown",
   "metadata": {},
   "source": [
    "Разобъемся на обучающий и тестовый наборы"
   ]
  },
  {
   "cell_type": "code",
   "execution_count": 57,
   "metadata": {},
   "outputs": [],
   "source": [
    "from sklearn.model_selection import train_test_split\n",
    "X_train, X_test, y_train, y_test = train_test_split(X, y, test_size=0.25, random_state=42)"
   ]
  },
  {
   "cell_type": "markdown",
   "metadata": {},
   "source": [
    "Выровняем/сбалансируем классы. Принимая во внимание численность \"малых классов\", решаем \"дотягивать\" их до значения доминирующего класаа CL0. Выравнивать классы будем только на обучающей выборке, если сделать это на всех данных - есть шанс того, что модель будет учится на тех данных которые потом будет предсказывать в тестовом наборе (столкнемся с проблемой переобучения)."
   ]
  },
  {
   "cell_type": "code",
   "execution_count": 58,
   "metadata": {},
   "outputs": [
    {
     "name": "stderr",
     "output_type": "stream",
     "text": [
      "<ipython-input-58-fb0804928bb6>:1: SettingWithCopyWarning: \n",
      "A value is trying to be set on a copy of a slice from a DataFrame.\n",
      "Try using .loc[row_indexer,col_indexer] = value instead\n",
      "\n",
      "See the caveats in the documentation: https://pandas.pydata.org/pandas-docs/stable/user_guide/indexing.html#returning-a-view-versus-a-copy\n",
      "  X_train[24]=y_train\n"
     ]
    }
   ],
   "source": [
    "X_train[24]=y_train\n",
    "# опишем функцию передискретизации одного класса до (желаемого) объема класса not_fraud\n",
    "from sklearn.utils import resample\n",
    "def resam(not_fraud, fraud):\n",
    "    fraud_upsample=resample(fraud, replace=True, n_samples=len(not_fraud), random_state=27)\n",
    "    return fraud_upsample\n",
    "X_desc=pd.DataFrame()\n",
    "# Соберем наши дополненные классы в один dataframe\n",
    "X_desc=pd.concat([\n",
    "    X_train[X_train[24]=='CL0'],\n",
    "    resam(X_train[X_train[24]=='CL0'], X_train[X_train[24]=='CL1']),\n",
    "    resam(X_train[X_train[24]=='CL0'], X_train[X_train[24]=='CL2']),\n",
    "    resam(X_train[X_train[24]=='CL0'], X_train[X_train[24]=='CL3']),\n",
    "    resam(X_train[X_train[24]=='CL0'], X_train[X_train[24]=='CL4']),\n",
    "    resam(X_train[X_train[24]=='CL0'], X_train[X_train[24]=='CL5']),\n",
    "    resam(X_train[X_train[24]=='CL0'], X_train[X_train[24]=='CL6']) \n",
    "    ])\n",
    "y_train=X_desc[24]\n",
    "X_train=X_desc.drop(columns=[24], axis=1)\n",
    "# чорт!!!, уверен/знаю что можно как-то изящнее все это сделать, но к ночи ближе начинаю плохо соображать"
   ]
  },
  {
   "cell_type": "markdown",
   "metadata": {},
   "source": [
    "Обучим модели на известных нам алгоритмах (на дефолтных параметрах). Первичные метрики оценки качества (accuracy) по каждой модели будем складывать в отдельный dataframe."
   ]
  },
  {
   "cell_type": "code",
   "execution_count": 59,
   "metadata": {},
   "outputs": [],
   "source": [
    "\n",
    "accuracy=pd.DataFrame()\n",
    "\n",
    "from sklearn.multiclass import OneVsRestClassifier\n",
    "from sklearn.svm import LinearSVC\n",
    "clf = OneVsRestClassifier(LinearSVC(random_state=0)).fit(X_train, y_train)\n",
    "accuracy['OVRest']=[clf.score(X_train, y_train),clf.score(X_test, y_test)]\n",
    "\n",
    "from sklearn.multiclass import OneVsOneClassifier\n",
    "clf = OneVsOneClassifier(LinearSVC(random_state=0)).fit(X_train, y_train)\n",
    "accuracy['OVOne']=[clf.score(X_train, y_train),clf.score(X_test, y_test)]\n",
    "\n",
    "from sklearn.neighbors import KNeighborsClassifier\n",
    "clf = KNeighborsClassifier(n_neighbors = 2 ).fit(X_train, y_train)\n",
    "accuracy['Kneigh']=[clf.score(X_train, y_train),clf.score(X_test, y_test)]\n",
    "\n",
    "from sklearn.multiclass import OutputCodeClassifier\n",
    "clf = OutputCodeClassifier(LinearSVC(random_state=0),code_size=2, random_state=0).fit(X_train, y_train) #???\n",
    "accuracy['OCode']=[clf.score(X_train, y_train),clf.score(X_test, y_test)]\n",
    "\n",
    "from sklearn.ensemble import GradientBoostingClassifier\n",
    "clf = GradientBoostingClassifier(n_estimators=100, learning_rate=1.0,max_depth=1, random_state=0).fit(X_train, y_train)\n",
    "accuracy['GradB']=[clf.score(X_train, y_train),clf.score(X_test, y_test)]\n",
    "\n",
    "from sklearn.linear_model import LogisticRegression\n",
    "clf = LogisticRegression(random_state=0, multi_class='ovr').fit(X_train, y_train)\n",
    "accuracy['LR']=[clf.score(X_train, y_train),clf.score(X_test, y_test)]\n",
    "\n",
    "from sklearn.tree import DecisionTreeClassifier\n",
    "clf = DecisionTreeClassifier(random_state=0).fit(X_train, y_train)\n",
    "accuracy['DTree']=[clf.score(X_train, y_train),clf.score(X_test, y_test)]\n",
    "\n",
    "from sklearn.ensemble import BaggingClassifier\n",
    "from sklearn.tree import ExtraTreeClassifier\n",
    "extra_tree = ExtraTreeClassifier(random_state=0)\n",
    "clf = BaggingClassifier(extra_tree, random_state=0).fit(X_train, y_train)\n",
    "accuracy['ETree']=[clf.score(X_train, y_train),clf.score(X_test, y_test)]\n",
    "\n",
    "from sklearn.ensemble import RandomForestClassifier\n",
    "clf = RandomForestClassifier().fit(X_train, y_train)\n",
    "accuracy['RForest']=[clf.score(X_train, y_train),clf.score(X_test, y_test)]\n"
   ]
  },
  {
   "cell_type": "markdown",
   "metadata": {},
   "source": [
    "Видим что неплохо показывают себя деревья, в частности RandomForestClassifier."
   ]
  },
  {
   "cell_type": "code",
   "execution_count": 60,
   "metadata": {},
   "outputs": [
    {
     "data": {
      "text/html": [
       "<div>\n",
       "<style scoped>\n",
       "    .dataframe tbody tr th:only-of-type {\n",
       "        vertical-align: middle;\n",
       "    }\n",
       "\n",
       "    .dataframe tbody tr th {\n",
       "        vertical-align: top;\n",
       "    }\n",
       "\n",
       "    .dataframe thead th {\n",
       "        text-align: right;\n",
       "    }\n",
       "</style>\n",
       "<table border=\"1\" class=\"dataframe\">\n",
       "  <thead>\n",
       "    <tr style=\"text-align: right;\">\n",
       "      <th></th>\n",
       "      <th>OVRest</th>\n",
       "      <th>OVOne</th>\n",
       "      <th>Kneigh</th>\n",
       "      <th>OCode</th>\n",
       "      <th>GradB</th>\n",
       "      <th>LR</th>\n",
       "      <th>DTree</th>\n",
       "      <th>ETree</th>\n",
       "      <th>RForest</th>\n",
       "    </tr>\n",
       "  </thead>\n",
       "  <tbody>\n",
       "    <tr>\n",
       "      <th>accuracy_Train</th>\n",
       "      <td>0.523887</td>\n",
       "      <td>0.620826</td>\n",
       "      <td>1.000000</td>\n",
       "      <td>0.434833</td>\n",
       "      <td>0.834184</td>\n",
       "      <td>0.514147</td>\n",
       "      <td>1.000000</td>\n",
       "      <td>1.000000</td>\n",
       "      <td>1.000000</td>\n",
       "    </tr>\n",
       "    <tr>\n",
       "      <th>accuracy_Test</th>\n",
       "      <td>0.212346</td>\n",
       "      <td>0.256790</td>\n",
       "      <td>0.632099</td>\n",
       "      <td>0.130864</td>\n",
       "      <td>0.353086</td>\n",
       "      <td>0.207407</td>\n",
       "      <td>0.634568</td>\n",
       "      <td>0.753086</td>\n",
       "      <td>0.797531</td>\n",
       "    </tr>\n",
       "  </tbody>\n",
       "</table>\n",
       "</div>"
      ],
      "text/plain": [
       "                  OVRest     OVOne    Kneigh     OCode     GradB        LR  \\\n",
       "accuracy_Train  0.523887  0.620826  1.000000  0.434833  0.834184  0.514147   \n",
       "accuracy_Test   0.212346  0.256790  0.632099  0.130864  0.353086  0.207407   \n",
       "\n",
       "                   DTree     ETree   RForest  \n",
       "accuracy_Train  1.000000  1.000000  1.000000  \n",
       "accuracy_Test   0.634568  0.753086  0.797531  "
      ]
     },
     "execution_count": 60,
     "metadata": {},
     "output_type": "execute_result"
    }
   ],
   "source": [
    "accuracy.rename({0:\"accuracy_Train\", 1:\"accuracy_Test\"}, inplace=True)\n",
    "accuracy"
   ]
  },
  {
   "cell_type": "markdown",
   "metadata": {},
   "source": [
    "Подберем параметр n_estimators "
   ]
  },
  {
   "cell_type": "code",
   "execution_count": 64,
   "metadata": {},
   "outputs": [
    {
     "name": "stdout",
     "output_type": "stream",
     "text": [
      "Максимальное значение accurecy= 0.79753  достигается при параметре n_estimators= 197\n"
     ]
    }
   ],
   "source": [
    "from sklearn.ensemble import RandomForestClassifier\n",
    "\n",
    "# Создаём модель леса из сотни деревьев\n",
    "accuracy=pd.Series(np.zeros((200)))\n",
    "k=0\n",
    "for i in range(1,200):\n",
    "    clf = RandomForestClassifier(n_estimators=i).fit(X_train, y_train)\n",
    "    prediction=clf.predict(X_test)\n",
    "    accuracy[i]=clf.score(X_test, y_test)\n",
    "    if accuracy[i-1]>accuracy[i]: k=i\n",
    "print('Максимальное значение accurecy=',  round(accuracy.max(),5), ' достигается при параметре n_estimators=',k)"
   ]
  },
  {
   "cell_type": "markdown",
   "metadata": {},
   "source": [
    "Видим что при значении n_estimators>75 accuracy практически вытягивается в линию"
   ]
  },
  {
   "cell_type": "code",
   "execution_count": 66,
   "metadata": {},
   "outputs": [
    {
     "data": {
      "text/plain": [
       "Text(0, 0.5, 'accuracy')"
      ]
     },
     "execution_count": 66,
     "metadata": {},
     "output_type": "execute_result"
    },
    {
     "data": {
      "image/png": "[encoded data removed]",
      "text/plain": [
       "<Figure size 432x288 with 1 Axes>"
      ]
     },
     "metadata": {},
     "output_type": "display_data"
    }
   ],
   "source": [
    "plt.plot(accuracy)\n",
    "plt.title('График зависимомти accuracy, модели RandomForest, от n_estimators') \n",
    "plt.xlabel('n_estimators')\n",
    "plt.ylabel('accuracy')\n",
    "\n"
   ]
  },
  {
   "cell_type": "markdown",
   "metadata": {},
   "source": [
    "Посмотрим насколько изменится accuracy если мы воспользуемся кросс валидацией"
   ]
  },
  {
   "cell_type": "code",
   "execution_count": 73,
   "metadata": {},
   "outputs": [
    {
     "name": "stderr",
     "output_type": "stream",
     "text": [
      "C:\\Users\\user\\anaconda3\\lib\\site-packages\\sklearn\\model_selection\\_split.py:666: UserWarning: The least populated class in y has only 4 members, which is less than n_splits=5.\n",
      "  warnings.warn((\"The least populated class in y has only %d\"\n"
     ]
    },
    {
     "data": {
      "text/plain": [
       "0.7950617283950617"
      ]
     },
     "execution_count": 73,
     "metadata": {},
     "output_type": "execute_result"
    }
   ],
   "source": [
    "from sklearn.model_selection import cross_val_score\n",
    "clf = RandomForestClassifier(n_estimators=197).fit(X_train, y_train)\n",
    "scores = cross_val_score(clf, X_test, y_test, cv=5)\n",
    "prediction=clf.predict(X_test)\n",
    "scores.mean()"
   ]
  },
  {
   "cell_type": "markdown",
   "metadata": {},
   "source": [
    "Выведем финальные оценки работы нашей модели."
   ]
  },
  {
   "cell_type": "code",
   "execution_count": 75,
   "metadata": {},
   "outputs": [
    {
     "name": "stdout",
     "output_type": "stream",
     "text": [
      "              precision    recall  f1-score   support\n",
      "\n",
      "         CL0      0.800     1.000     0.889       323\n",
      "         CL1      0.000     0.000     0.000        10\n",
      "         CL2      0.000     0.000     0.000        31\n",
      "         CL3      0.000     0.000     0.000        29\n",
      "         CL4      0.000     0.000     0.000         4\n",
      "         CL5      0.000     0.000     0.000         8\n",
      "\n",
      "    accuracy                          0.798       405\n",
      "   macro avg      0.133     0.167     0.148       405\n",
      "weighted avg      0.638     0.798     0.709       405\n",
      "\n"
     ]
    },
    {
     "name": "stderr",
     "output_type": "stream",
     "text": [
      "C:\\Users\\user\\anaconda3\\lib\\site-packages\\sklearn\\metrics\\_classification.py:1245: UndefinedMetricWarning: Precision and F-score are ill-defined and being set to 0.0 in labels with no predicted samples. Use `zero_division` parameter to control this behavior.\n",
      "  _warn_prf(average, modifier, msg_start, len(result))\n",
      "C:\\Users\\user\\anaconda3\\lib\\site-packages\\sklearn\\metrics\\_classification.py:1245: UndefinedMetricWarning: Precision and F-score are ill-defined and being set to 0.0 in labels with no predicted samples. Use `zero_division` parameter to control this behavior.\n",
      "  _warn_prf(average, modifier, msg_start, len(result))\n",
      "C:\\Users\\user\\anaconda3\\lib\\site-packages\\sklearn\\metrics\\_classification.py:1245: UndefinedMetricWarning: Precision and F-score are ill-defined and being set to 0.0 in labels with no predicted samples. Use `zero_division` parameter to control this behavior.\n",
      "  _warn_prf(average, modifier, msg_start, len(result))\n"
     ]
    }
   ],
   "source": [
    "from sklearn import metrics\n",
    "print(metrics.classification_report(y_test, prediction, digits=3))"
   ]
  },
  {
   "cell_type": "markdown",
   "metadata": {},
   "source": [
    "__Финальные выводы__: мне не нравится, я не доволен!!!, 0,8 на мой взгляд недостойно мало, к тому же по сути наша модель научилась находить только CL0, ...остальные классы конечно \"так себе\" представлены, но тем не менее... Итак, если руководство/заказчик/тимлид говорит нам что это \"максимум\", то переписываем код с учетом того, что предсказаний должно быть 18. Может быть можно и \"одним гуртом\", но я бы, после всех предварительных обработок данных, зарядил цикл в котором мы последовательно работаем с каждой из 18-ти целевых переменных, соответственно в каждой определяем доминирующий класс, дотягиваем отстающие классы, прогоняем модели, результаты сваливаем в табличку, анализируем ее и по необходимости работаем/дорабатываем \"индивидуально каждую целевую фичу\". Я бы еще все это обернул в классы, мне кажется будет нагляднее и легче работать.\n",
    "\n",
    "__Забавно, что если вообще ничего не делать с данными, а просто в чистом виде зарядить их в алгоритмы, то \"сырые\" результата получаются совсем не хуже, а местами даже лучше. У меня все-таки есть ощущение что я чего-то не уловил..., есть какая-то великая/невеликая хитрость которая мне не открылась...__"
   ]
  },
  {
   "cell_type": "code",
   "execution_count": 77,
   "metadata": {},
   "outputs": [
    {
     "data": {
      "text/html": [
       "<div>\n",
       "<style scoped>\n",
       "    .dataframe tbody tr th:only-of-type {\n",
       "        vertical-align: middle;\n",
       "    }\n",
       "\n",
       "    .dataframe tbody tr th {\n",
       "        vertical-align: top;\n",
       "    }\n",
       "\n",
       "    .dataframe thead th {\n",
       "        text-align: right;\n",
       "    }\n",
       "</style>\n",
       "<table border=\"1\" class=\"dataframe\">\n",
       "  <thead>\n",
       "    <tr style=\"text-align: right;\">\n",
       "      <th></th>\n",
       "      <th>OVRest</th>\n",
       "      <th>OVOne</th>\n",
       "      <th>Kneigh</th>\n",
       "      <th>OCode</th>\n",
       "      <th>GradB</th>\n",
       "      <th>LR</th>\n",
       "      <th>DTree</th>\n",
       "      <th>ETree</th>\n",
       "      <th>RForest</th>\n",
       "    </tr>\n",
       "  </thead>\n",
       "  <tbody>\n",
       "    <tr>\n",
       "      <th>accuracy_Train</th>\n",
       "      <td>0.787654</td>\n",
       "      <td>0.787654</td>\n",
       "      <td>0.82716</td>\n",
       "      <td>0.787654</td>\n",
       "      <td>0.792593</td>\n",
       "      <td>0.787654</td>\n",
       "      <td>1.000000</td>\n",
       "      <td>0.974486</td>\n",
       "      <td>1.000000</td>\n",
       "    </tr>\n",
       "    <tr>\n",
       "      <th>accuracy_Test</th>\n",
       "      <td>0.797531</td>\n",
       "      <td>0.797531</td>\n",
       "      <td>0.77037</td>\n",
       "      <td>0.797531</td>\n",
       "      <td>0.777778</td>\n",
       "      <td>0.797531</td>\n",
       "      <td>0.634568</td>\n",
       "      <td>0.787654</td>\n",
       "      <td>0.797531</td>\n",
       "    </tr>\n",
       "  </tbody>\n",
       "</table>\n",
       "</div>"
      ],
      "text/plain": [
       "                  OVRest     OVOne   Kneigh     OCode     GradB        LR  \\\n",
       "accuracy_Train  0.787654  0.787654  0.82716  0.787654  0.792593  0.787654   \n",
       "accuracy_Test   0.797531  0.797531  0.77037  0.797531  0.777778  0.797531   \n",
       "\n",
       "                   DTree     ETree   RForest  \n",
       "accuracy_Train  1.000000  0.974486  1.000000  \n",
       "accuracy_Test   0.634568  0.787654  0.797531  "
      ]
     },
     "execution_count": 77,
     "metadata": {},
     "output_type": "execute_result"
    }
   ],
   "source": [
    "X=data.drop(columns=[24], axis=1).astype('float')\n",
    "y=data[24]\n",
    "X_train, X_test, y_train, y_test = train_test_split(X, y, test_size=0.25, random_state=42)\n",
    "accuracy=pd.DataFrame()\n",
    "\n",
    "clf = OneVsRestClassifier(LinearSVC(random_state=0)).fit(X_train, y_train)\n",
    "accuracy['OVRest']=[clf.score(X_train, y_train),clf.score(X_test, y_test)]\n",
    "clf = OneVsOneClassifier(LinearSVC(random_state=0)).fit(X_train, y_train)\n",
    "accuracy['OVOne']=[clf.score(X_train, y_train),clf.score(X_test, y_test)]\n",
    "clf = KNeighborsClassifier(n_neighbors = 2 ).fit(X_train, y_train)\n",
    "accuracy['Kneigh']=[clf.score(X_train, y_train),clf.score(X_test, y_test)]\n",
    "clf = OutputCodeClassifier(LinearSVC(random_state=0),code_size=2, random_state=0).fit(X_train, y_train) #???\n",
    "accuracy['OCode']=[clf.score(X_train, y_train),clf.score(X_test, y_test)]\n",
    "clf = GradientBoostingClassifier(n_estimators=100, learning_rate=1.0,max_depth=1, random_state=0).fit(X_train, y_train)\n",
    "accuracy['GradB']=[clf.score(X_train, y_train),clf.score(X_test, y_test)]\n",
    "clf = LogisticRegression(random_state=0, multi_class='ovr').fit(X_train, y_train)\n",
    "accuracy['LR']=[clf.score(X_train, y_train),clf.score(X_test, y_test)]\n",
    "clf = DecisionTreeClassifier(random_state=0).fit(X_train, y_train)\n",
    "accuracy['DTree']=[clf.score(X_train, y_train),clf.score(X_test, y_test)]\n",
    "extra_tree = ExtraTreeClassifier(random_state=0)\n",
    "clf = BaggingClassifier(extra_tree, random_state=0).fit(X_train, y_train)\n",
    "accuracy['ETree']=[clf.score(X_train, y_train),clf.score(X_test, y_test)]\n",
    "clf = RandomForestClassifier().fit(X_train, y_train)\n",
    "accuracy['RForest']=[clf.score(X_train, y_train),clf.score(X_test, y_test)]\n",
    "accuracy.rename({0:\"accuracy_Train\", 1:\"accuracy_Test\"}, inplace=True)\n",
    "accuracy\n"
   ]
  }
 ],
 "metadata": {
  "interpreter": {
   "hash": "6d46af94c2bbce495f1e668725902fa517c90b1782bcfe2fce0dd9868df553d3"
  },
  "kernelspec": {
   "display_name": "Python 3.8.8 64-bit ('base': conda)",
   "name": "python3"
  },
  "language_info": {
   "codemirror_mode": {
    "name": "ipython",
    "version": 3
   },
   "file_extension": ".py",
   "mimetype": "text/x-python",
   "name": "python",
   "nbconvert_exporter": "python",
   "pygments_lexer": "ipython3",
   "version": "3.8.8"
  },
  "orig_nbformat": 4
 },
 "nbformat": 4,
 "nbformat_minor": 2
}
