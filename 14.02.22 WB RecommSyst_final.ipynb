{
 "cells": [
  {
   "cell_type": "code",
   "execution_count": 1,
   "metadata": {},
   "outputs": [],
   "source": [
    "import pandas as pd\n",
    "import numpy as np\n",
    "from collections import Counter\n",
    "from scipy.sparse import csr_matrix\n",
    "from collections import Counter\n",
    "from tqdm.notebook import tqdm\n",
    "import matplotlib.pyplot as plt\n",
    "import seaborn as sns"
   ]
  },
  {
   "cell_type": "markdown",
   "metadata": {},
   "source": [
    "__Читаем данные__"
   ]
  },
  {
   "cell_type": "code",
   "execution_count": 2,
   "metadata": {},
   "outputs": [
    {
     "data": {
      "text/html": [
       "<div>\n",
       "<style scoped>\n",
       "    .dataframe tbody tr th:only-of-type {\n",
       "        vertical-align: middle;\n",
       "    }\n",
       "\n",
       "    .dataframe tbody tr th {\n",
       "        vertical-align: top;\n",
       "    }\n",
       "\n",
       "    .dataframe thead th {\n",
       "        text-align: right;\n",
       "    }\n",
       "</style>\n",
       "<table border=\"1\" class=\"dataframe\">\n",
       "  <thead>\n",
       "    <tr style=\"text-align: right;\">\n",
       "      <th></th>\n",
       "      <th>Id</th>\n",
       "      <th>Data</th>\n",
       "      <th>Target</th>\n",
       "    </tr>\n",
       "  </thead>\n",
       "  <tbody>\n",
       "    <tr>\n",
       "      <th>0</th>\n",
       "      <td>2</td>\n",
       "      <td>1196196 6649 631757 352482 129763 1488867 4196...</td>\n",
       "      <td>3 4 5 57562 143308 602645</td>\n",
       "    </tr>\n",
       "    <tr>\n",
       "      <th>1</th>\n",
       "      <td>8</td>\n",
       "      <td>160601</td>\n",
       "      <td>21 666511</td>\n",
       "    </tr>\n",
       "    <tr>\n",
       "      <th>2</th>\n",
       "      <td>9</td>\n",
       "      <td>4036 184532 253735 164416 2711233</td>\n",
       "      <td>22 23 24 859 273402</td>\n",
       "    </tr>\n",
       "    <tr>\n",
       "      <th>3</th>\n",
       "      <td>30</td>\n",
       "      <td>364007 585243 1053 96977 757925 262078 277037 ...</td>\n",
       "      <td>69 70 71 72 25723 29894 77836 89724 101092 142...</td>\n",
       "    </tr>\n",
       "    <tr>\n",
       "      <th>4</th>\n",
       "      <td>34</td>\n",
       "      <td>454100 468340 170827 1156224</td>\n",
       "      <td>83 31304 126449</td>\n",
       "    </tr>\n",
       "  </tbody>\n",
       "</table>\n",
       "</div>"
      ],
      "text/plain": [
       "   Id                                               Data  \\\n",
       "0   2  1196196 6649 631757 352482 129763 1488867 4196...   \n",
       "1   8                                             160601   \n",
       "2   9                  4036 184532 253735 164416 2711233   \n",
       "3  30  364007 585243 1053 96977 757925 262078 277037 ...   \n",
       "4  34                       454100 468340 170827 1156224   \n",
       "\n",
       "                                              Target  \n",
       "0                          3 4 5 57562 143308 602645  \n",
       "1                                          21 666511  \n",
       "2                                22 23 24 859 273402  \n",
       "3  69 70 71 72 25723 29894 77836 89724 101092 142...  \n",
       "4                                    83 31304 126449  "
      ]
     },
     "execution_count": 2,
     "metadata": {},
     "output_type": "execute_result"
    }
   ],
   "source": [
    "# прочитали train набор \n",
    "data_train = pd.read_csv(\"train.csv\")\n",
    "data_train.head()"
   ]
  },
  {
   "cell_type": "code",
   "execution_count": 3,
   "metadata": {},
   "outputs": [
    {
     "data": {
      "text/html": [
       "<div>\n",
       "<style scoped>\n",
       "    .dataframe tbody tr th:only-of-type {\n",
       "        vertical-align: middle;\n",
       "    }\n",
       "\n",
       "    .dataframe tbody tr th {\n",
       "        vertical-align: top;\n",
       "    }\n",
       "\n",
       "    .dataframe thead th {\n",
       "        text-align: right;\n",
       "    }\n",
       "</style>\n",
       "<table border=\"1\" class=\"dataframe\">\n",
       "  <thead>\n",
       "    <tr style=\"text-align: right;\">\n",
       "      <th></th>\n",
       "      <th>Id</th>\n",
       "      <th>Data</th>\n",
       "    </tr>\n",
       "  </thead>\n",
       "  <tbody>\n",
       "    <tr>\n",
       "      <th>0</th>\n",
       "      <td>1</td>\n",
       "      <td>1488866 5821 1632 124514</td>\n",
       "    </tr>\n",
       "    <tr>\n",
       "      <th>1</th>\n",
       "      <td>3</td>\n",
       "      <td>2935816</td>\n",
       "    </tr>\n",
       "    <tr>\n",
       "      <th>2</th>\n",
       "      <td>25</td>\n",
       "      <td>63 56990 10217 35352 364303 364303 1060991 209...</td>\n",
       "    </tr>\n",
       "    <tr>\n",
       "      <th>3</th>\n",
       "      <td>28</td>\n",
       "      <td>34769</td>\n",
       "    </tr>\n",
       "    <tr>\n",
       "      <th>4</th>\n",
       "      <td>32</td>\n",
       "      <td>2239802 756075 1901311 2239803 2239804 1451281...</td>\n",
       "    </tr>\n",
       "  </tbody>\n",
       "</table>\n",
       "</div>"
      ],
      "text/plain": [
       "   Id                                               Data\n",
       "0   1                           1488866 5821 1632 124514\n",
       "1   3                                            2935816\n",
       "2  25  63 56990 10217 35352 364303 364303 1060991 209...\n",
       "3  28                                              34769\n",
       "4  32  2239802 756075 1901311 2239803 2239804 1451281..."
      ]
     },
     "execution_count": 3,
     "metadata": {},
     "output_type": "execute_result"
    }
   ],
   "source": [
    "# прочитали test набор \n",
    "data_test = pd.read_csv(\"test.csv\")\n",
    "data_test.head()"
   ]
  },
  {
   "cell_type": "code",
   "execution_count": 4,
   "metadata": {},
   "outputs": [
    {
     "data": {
      "text/html": [
       "<div>\n",
       "<style scoped>\n",
       "    .dataframe tbody tr th:only-of-type {\n",
       "        vertical-align: middle;\n",
       "    }\n",
       "\n",
       "    .dataframe tbody tr th {\n",
       "        vertical-align: top;\n",
       "    }\n",
       "\n",
       "    .dataframe thead th {\n",
       "        text-align: right;\n",
       "    }\n",
       "</style>\n",
       "<table border=\"1\" class=\"dataframe\">\n",
       "  <thead>\n",
       "    <tr style=\"text-align: right;\">\n",
       "      <th></th>\n",
       "      <th>Id</th>\n",
       "      <th>Predicted</th>\n",
       "    </tr>\n",
       "  </thead>\n",
       "  <tbody>\n",
       "    <tr>\n",
       "      <th>0</th>\n",
       "      <td>1</td>\n",
       "      <td>2674 2607 3125 4232 859 5141 4254 6845 1443 558</td>\n",
       "    </tr>\n",
       "    <tr>\n",
       "      <th>1</th>\n",
       "      <td>3</td>\n",
       "      <td>2674 2607 3125 4232 859 5141 4254 6845 1443 558</td>\n",
       "    </tr>\n",
       "    <tr>\n",
       "      <th>2</th>\n",
       "      <td>25</td>\n",
       "      <td>2674 2607 3125 4232 859 5141 4254 6845 1443 558</td>\n",
       "    </tr>\n",
       "    <tr>\n",
       "      <th>3</th>\n",
       "      <td>28</td>\n",
       "      <td>2674 2607 3125 4232 859 5141 4254 6845 1443 558</td>\n",
       "    </tr>\n",
       "    <tr>\n",
       "      <th>4</th>\n",
       "      <td>32</td>\n",
       "      <td>2674 2607 3125 4232 859 5141 4254 6845 1443 558</td>\n",
       "    </tr>\n",
       "  </tbody>\n",
       "</table>\n",
       "</div>"
      ],
      "text/plain": [
       "   Id                                        Predicted\n",
       "0   1  2674 2607 3125 4232 859 5141 4254 6845 1443 558\n",
       "1   3  2674 2607 3125 4232 859 5141 4254 6845 1443 558\n",
       "2  25  2674 2607 3125 4232 859 5141 4254 6845 1443 558\n",
       "3  28  2674 2607 3125 4232 859 5141 4254 6845 1443 558\n",
       "4  32  2674 2607 3125 4232 859 5141 4254 6845 1443 558"
      ]
     },
     "execution_count": 4,
     "metadata": {},
     "output_type": "execute_result"
    }
   ],
   "source": [
    "# прочитали submission\n",
    "submission = pd.read_csv(\"submission.csv\")\n",
    "submission.head()"
   ]
  },
  {
   "cell_type": "markdown",
   "metadata": {},
   "source": [
    "Посмотрим, можно ли что то извлечь из Id."
   ]
  },
  {
   "cell_type": "code",
   "execution_count": 5,
   "metadata": {},
   "outputs": [
    {
     "data": {
      "text/plain": [
       "200000"
      ]
     },
     "execution_count": 5,
     "metadata": {},
     "output_type": "execute_result"
    }
   ],
   "source": [
    "len(data_train['Id'].unique())"
   ]
  },
  {
   "cell_type": "markdown",
   "metadata": {},
   "source": [
    "Ой, это не пользователи а видимо просто id событий. Ничего не извлечь из этого."
   ]
  },
  {
   "cell_type": "markdown",
   "metadata": {},
   "source": [
    "Создадим датафрейм, содержащий все существующие пересечения вида<br>\n",
    "**Товар из Data** - **Товар из Target**"
   ]
  },
  {
   "cell_type": "code",
   "execution_count": 6,
   "metadata": {},
   "outputs": [
    {
     "data": {
      "application/vnd.jupyter.widget-view+json": {
       "model_id": "d2ec63893a4d47e9bae1c0f9c2619564",
       "version_major": 2,
       "version_minor": 0
      },
      "text/plain": [
       "  0%|          | 0/200000 [00:00<?, ?it/s]"
      ]
     },
     "metadata": {},
     "output_type": "display_data"
    }
   ],
   "source": [
    "data_lst = []\n",
    "target_lst = []\n",
    "\n",
    "for _, row in tqdm(data_train.iterrows(), total=data_train.shape[0]):\n",
    "    data_lst.append(list(row[\"Data\"].split()))\n",
    "    target_lst.append(list(row[\"Target\"].split()))\n",
    "    \n",
    "data_train[\"Data\"] = data_lst\n",
    "data_train[\"Target\"] = target_lst"
   ]
  },
  {
   "cell_type": "code",
   "execution_count": 7,
   "metadata": {},
   "outputs": [
    {
     "data": {
      "text/html": [
       "<div>\n",
       "<style scoped>\n",
       "    .dataframe tbody tr th:only-of-type {\n",
       "        vertical-align: middle;\n",
       "    }\n",
       "\n",
       "    .dataframe tbody tr th {\n",
       "        vertical-align: top;\n",
       "    }\n",
       "\n",
       "    .dataframe thead th {\n",
       "        text-align: right;\n",
       "    }\n",
       "</style>\n",
       "<table border=\"1\" class=\"dataframe\">\n",
       "  <thead>\n",
       "    <tr style=\"text-align: right;\">\n",
       "      <th></th>\n",
       "      <th>Id</th>\n",
       "      <th>Data</th>\n",
       "      <th>Target</th>\n",
       "    </tr>\n",
       "  </thead>\n",
       "  <tbody>\n",
       "    <tr>\n",
       "      <th>0</th>\n",
       "      <td>2</td>\n",
       "      <td>[1196196, 6649, 631757, 352482, 129763, 148886...</td>\n",
       "      <td>[3, 4, 5, 57562, 143308, 602645]</td>\n",
       "    </tr>\n",
       "    <tr>\n",
       "      <th>1</th>\n",
       "      <td>8</td>\n",
       "      <td>[160601]</td>\n",
       "      <td>[21, 666511]</td>\n",
       "    </tr>\n",
       "    <tr>\n",
       "      <th>2</th>\n",
       "      <td>9</td>\n",
       "      <td>[4036, 184532, 253735, 164416, 2711233]</td>\n",
       "      <td>[22, 23, 24, 859, 273402]</td>\n",
       "    </tr>\n",
       "    <tr>\n",
       "      <th>3</th>\n",
       "      <td>30</td>\n",
       "      <td>[364007, 585243, 1053, 96977, 757925, 262078, ...</td>\n",
       "      <td>[69, 70, 71, 72, 25723, 29894, 77836, 89724, 1...</td>\n",
       "    </tr>\n",
       "    <tr>\n",
       "      <th>4</th>\n",
       "      <td>34</td>\n",
       "      <td>[454100, 468340, 170827, 1156224]</td>\n",
       "      <td>[83, 31304, 126449]</td>\n",
       "    </tr>\n",
       "  </tbody>\n",
       "</table>\n",
       "</div>"
      ],
      "text/plain": [
       "   Id                                               Data  \\\n",
       "0   2  [1196196, 6649, 631757, 352482, 129763, 148886...   \n",
       "1   8                                           [160601]   \n",
       "2   9            [4036, 184532, 253735, 164416, 2711233]   \n",
       "3  30  [364007, 585243, 1053, 96977, 757925, 262078, ...   \n",
       "4  34                  [454100, 468340, 170827, 1156224]   \n",
       "\n",
       "                                              Target  \n",
       "0                   [3, 4, 5, 57562, 143308, 602645]  \n",
       "1                                       [21, 666511]  \n",
       "2                          [22, 23, 24, 859, 273402]  \n",
       "3  [69, 70, 71, 72, 25723, 29894, 77836, 89724, 1...  \n",
       "4                                [83, 31304, 126449]  "
      ]
     },
     "execution_count": 7,
     "metadata": {},
     "output_type": "execute_result"
    }
   ],
   "source": [
    "data_train.head()"
   ]
  },
  {
   "cell_type": "code",
   "execution_count": 8,
   "metadata": {},
   "outputs": [
    {
     "data": {
      "text/html": [
       "<div>\n",
       "<style scoped>\n",
       "    .dataframe tbody tr th:only-of-type {\n",
       "        vertical-align: middle;\n",
       "    }\n",
       "\n",
       "    .dataframe tbody tr th {\n",
       "        vertical-align: top;\n",
       "    }\n",
       "\n",
       "    .dataframe thead th {\n",
       "        text-align: right;\n",
       "    }\n",
       "</style>\n",
       "<table border=\"1\" class=\"dataframe\">\n",
       "  <thead>\n",
       "    <tr style=\"text-align: right;\">\n",
       "      <th></th>\n",
       "      <th>Id</th>\n",
       "      <th>Data</th>\n",
       "      <th>Target</th>\n",
       "    </tr>\n",
       "  </thead>\n",
       "  <tbody>\n",
       "    <tr>\n",
       "      <th>0</th>\n",
       "      <td>2</td>\n",
       "      <td>1196196</td>\n",
       "      <td>3</td>\n",
       "    </tr>\n",
       "    <tr>\n",
       "      <th>0</th>\n",
       "      <td>2</td>\n",
       "      <td>1196196</td>\n",
       "      <td>4</td>\n",
       "    </tr>\n",
       "    <tr>\n",
       "      <th>0</th>\n",
       "      <td>2</td>\n",
       "      <td>1196196</td>\n",
       "      <td>5</td>\n",
       "    </tr>\n",
       "    <tr>\n",
       "      <th>0</th>\n",
       "      <td>2</td>\n",
       "      <td>1196196</td>\n",
       "      <td>57562</td>\n",
       "    </tr>\n",
       "    <tr>\n",
       "      <th>0</th>\n",
       "      <td>2</td>\n",
       "      <td>1196196</td>\n",
       "      <td>143308</td>\n",
       "    </tr>\n",
       "  </tbody>\n",
       "</table>\n",
       "</div>"
      ],
      "text/plain": [
       "   Id     Data  Target\n",
       "0   2  1196196       3\n",
       "0   2  1196196       4\n",
       "0   2  1196196       5\n",
       "0   2  1196196   57562\n",
       "0   2  1196196  143308"
      ]
     },
     "execution_count": 8,
     "metadata": {},
     "output_type": "execute_result"
    }
   ],
   "source": [
    "# матрица всех пересечений Data и Target\n",
    "intersect_df = data_train.explode(\"Data\").explode(\"Target\")\n",
    "intersect_df[\"Data\"] = intersect_df[\"Data\"].astype(int)\n",
    "intersect_df[\"Target\"] = intersect_df[\"Target\"].astype(int)\n",
    "intersect_df.head()"
   ]
  },
  {
   "cell_type": "code",
   "execution_count": 9,
   "metadata": {},
   "outputs": [
    {
     "data": {
      "text/plain": [
       "8934889"
      ]
     },
     "execution_count": 9,
     "metadata": {},
     "output_type": "execute_result"
    }
   ],
   "source": [
    "intersect_df.shape[0]"
   ]
  },
  {
   "cell_type": "markdown",
   "metadata": {},
   "source": [
    "__Найдем ТОР-10 самых популярных товаров в Target__, будем считать их 'ответом' на отсутствие ответа."
   ]
  },
  {
   "cell_type": "code",
   "execution_count": 10,
   "metadata": {},
   "outputs": [
    {
     "data": {
      "text/plain": [
       "528563"
      ]
     },
     "execution_count": 10,
     "metadata": {},
     "output_type": "execute_result"
    }
   ],
   "source": [
    "# Подсчет количества повторений элементов в последовательности target\n",
    "cnt_target = Counter(intersect_df[\"Target\"])\n",
    "len(cnt_target)"
   ]
  },
  {
   "cell_type": "code",
   "execution_count": 11,
   "metadata": {},
   "outputs": [
    {
     "data": {
      "text/plain": [
       "[(3125, 2125),\n",
       " (2607, 2108),\n",
       " (859, 2003),\n",
       " (1443, 1834),\n",
       " (6523, 1747),\n",
       " (11446, 1593),\n",
       " (5306, 1559),\n",
       " (4254, 1446),\n",
       " (4232, 1420),\n",
       " (7144, 1357)]"
      ]
     },
     "execution_count": 11,
     "metadata": {},
     "output_type": "execute_result"
    }
   ],
   "source": [
    "# 10 самых частых (во 2 столбце количество встреч) по убыванию\n",
    "cnt_target.most_common(10)"
   ]
  },
  {
   "cell_type": "code",
   "execution_count": 12,
   "metadata": {},
   "outputs": [
    {
     "data": {
      "text/plain": [
       "'3125 2607 859 1443 6523 11446 5306 4254 4232 7144'"
      ]
     },
     "execution_count": 12,
     "metadata": {},
     "output_type": "execute_result"
    }
   ],
   "source": [
    "# это наши 10 самых встречаемых товаров в Target, base_rec - готовая запись\n",
    "rec_ids = list(map(lambda x: x[0], cnt_target.most_common(10)))\n",
    "base_rec = \" \".join([str(id) for id in rec_ids])\n",
    "base_rec_int=rec_ids\n",
    "base_rec"
   ]
  },
  {
   "cell_type": "markdown",
   "metadata": {},
   "source": [
    "Создадим датафрейм, содержащий количество пересечений для каждой из пар<br>\n",
    "**Товар из Data** - **Товар из Target**"
   ]
  },
  {
   "cell_type": "code",
   "execution_count": 53,
   "metadata": {},
   "outputs": [
    {
     "data": {
      "text/html": [
       "<div>\n",
       "<style scoped>\n",
       "    .dataframe tbody tr th:only-of-type {\n",
       "        vertical-align: middle;\n",
       "    }\n",
       "\n",
       "    .dataframe tbody tr th {\n",
       "        vertical-align: top;\n",
       "    }\n",
       "\n",
       "    .dataframe thead th {\n",
       "        text-align: right;\n",
       "    }\n",
       "</style>\n",
       "<table border=\"1\" class=\"dataframe\">\n",
       "  <thead>\n",
       "    <tr style=\"text-align: right;\">\n",
       "      <th></th>\n",
       "      <th>Data</th>\n",
       "      <th>Target</th>\n",
       "      <th>count</th>\n",
       "    </tr>\n",
       "  </thead>\n",
       "  <tbody>\n",
       "    <tr>\n",
       "      <th>0</th>\n",
       "      <td>1</td>\n",
       "      <td>10119</td>\n",
       "      <td>1</td>\n",
       "    </tr>\n",
       "    <tr>\n",
       "      <th>1</th>\n",
       "      <td>1</td>\n",
       "      <td>65333</td>\n",
       "      <td>1</td>\n",
       "    </tr>\n",
       "    <tr>\n",
       "      <th>2</th>\n",
       "      <td>1</td>\n",
       "      <td>128791</td>\n",
       "      <td>1</td>\n",
       "    </tr>\n",
       "    <tr>\n",
       "      <th>3</th>\n",
       "      <td>1</td>\n",
       "      <td>155117</td>\n",
       "      <td>1</td>\n",
       "    </tr>\n",
       "    <tr>\n",
       "      <th>4</th>\n",
       "      <td>1</td>\n",
       "      <td>210215</td>\n",
       "      <td>1</td>\n",
       "    </tr>\n",
       "  </tbody>\n",
       "</table>\n",
       "</div>"
      ],
      "text/plain": [
       "   Data  Target  count\n",
       "0     1   10119      1\n",
       "1     1   65333      1\n",
       "2     1  128791      1\n",
       "3     1  155117      1\n",
       "4     1  210215      1"
      ]
     },
     "execution_count": 53,
     "metadata": {},
     "output_type": "execute_result"
    }
   ],
   "source": [
    "count_df = intersect_df.groupby([\"Data\", \"Target\"], as_index=False).count().rename(columns={'Id': 'count'})\n",
    "count_df.head()"
   ]
  },
  {
   "cell_type": "code",
   "execution_count": 47,
   "metadata": {},
   "outputs": [
    {
     "data": {
      "text/plain": [
       "7753830"
      ]
     },
     "execution_count": 47,
     "metadata": {},
     "output_type": "execute_result"
    }
   ],
   "source": [
    "count_df.shape[0]"
   ]
  },
  {
   "cell_type": "code",
   "execution_count": 54,
   "metadata": {},
   "outputs": [],
   "source": [
    "# было так: count_df.sort_values(by=[\"Target\", \"count\"], ascending=[True, False], inplace=True)\n",
    "count_df.sort_values(by=[\"Target\", \"count\"], ascending=[True, False], inplace=True)\n"
   ]
  },
  {
   "cell_type": "code",
   "execution_count": 49,
   "metadata": {},
   "outputs": [
    {
     "data": {
      "text/html": [
       "<div>\n",
       "<style scoped>\n",
       "    .dataframe tbody tr th:only-of-type {\n",
       "        vertical-align: middle;\n",
       "    }\n",
       "\n",
       "    .dataframe tbody tr th {\n",
       "        vertical-align: top;\n",
       "    }\n",
       "\n",
       "    .dataframe thead th {\n",
       "        text-align: right;\n",
       "    }\n",
       "</style>\n",
       "<table border=\"1\" class=\"dataframe\">\n",
       "  <thead>\n",
       "    <tr style=\"text-align: right;\">\n",
       "      <th></th>\n",
       "      <th>Data</th>\n",
       "      <th>Target</th>\n",
       "      <th>count</th>\n",
       "    </tr>\n",
       "  </thead>\n",
       "  <tbody>\n",
       "    <tr>\n",
       "      <th>305873</th>\n",
       "      <td>8377</td>\n",
       "      <td>39</td>\n",
       "      <td>5</td>\n",
       "    </tr>\n",
       "    <tr>\n",
       "      <th>305874</th>\n",
       "      <td>8377</td>\n",
       "      <td>14284</td>\n",
       "      <td>5</td>\n",
       "    </tr>\n",
       "    <tr>\n",
       "      <th>305875</th>\n",
       "      <td>8377</td>\n",
       "      <td>28678</td>\n",
       "      <td>1</td>\n",
       "    </tr>\n",
       "    <tr>\n",
       "      <th>305876</th>\n",
       "      <td>8377</td>\n",
       "      <td>38125</td>\n",
       "      <td>1</td>\n",
       "    </tr>\n",
       "    <tr>\n",
       "      <th>305877</th>\n",
       "      <td>8377</td>\n",
       "      <td>56846</td>\n",
       "      <td>5</td>\n",
       "    </tr>\n",
       "    <tr>\n",
       "      <th>305878</th>\n",
       "      <td>8377</td>\n",
       "      <td>387936</td>\n",
       "      <td>1</td>\n",
       "    </tr>\n",
       "    <tr>\n",
       "      <th>305879</th>\n",
       "      <td>8377</td>\n",
       "      <td>776764</td>\n",
       "      <td>1</td>\n",
       "    </tr>\n",
       "  </tbody>\n",
       "</table>\n",
       "</div>"
      ],
      "text/plain": [
       "        Data  Target  count\n",
       "305873  8377      39      5\n",
       "305874  8377   14284      5\n",
       "305875  8377   28678      1\n",
       "305876  8377   38125      1\n",
       "305877  8377   56846      5\n",
       "305878  8377  387936      1\n",
       "305879  8377  776764      1"
      ]
     },
     "execution_count": 49,
     "metadata": {},
     "output_type": "execute_result"
    }
   ],
   "source": [
    "# пример записи для Data=8377\n",
    "count_df[count_df['Data']==8377]"
   ]
  },
  {
   "cell_type": "code",
   "execution_count": 55,
   "metadata": {},
   "outputs": [
    {
     "data": {
      "text/html": [
       "<div>\n",
       "<style scoped>\n",
       "    .dataframe tbody tr th:only-of-type {\n",
       "        vertical-align: middle;\n",
       "    }\n",
       "\n",
       "    .dataframe tbody tr th {\n",
       "        vertical-align: top;\n",
       "    }\n",
       "\n",
       "    .dataframe thead th {\n",
       "        text-align: right;\n",
       "    }\n",
       "</style>\n",
       "<table border=\"1\" class=\"dataframe\">\n",
       "  <thead>\n",
       "    <tr style=\"text-align: right;\">\n",
       "      <th></th>\n",
       "      <th>Data</th>\n",
       "      <th>Target</th>\n",
       "      <th>count</th>\n",
       "    </tr>\n",
       "  </thead>\n",
       "  <tbody>\n",
       "    <tr>\n",
       "      <th>305873</th>\n",
       "      <td>8377</td>\n",
       "      <td>39</td>\n",
       "      <td>5</td>\n",
       "    </tr>\n",
       "    <tr>\n",
       "      <th>305874</th>\n",
       "      <td>8377</td>\n",
       "      <td>14284</td>\n",
       "      <td>5</td>\n",
       "    </tr>\n",
       "    <tr>\n",
       "      <th>305877</th>\n",
       "      <td>8377</td>\n",
       "      <td>56846</td>\n",
       "      <td>5</td>\n",
       "    </tr>\n",
       "    <tr>\n",
       "      <th>305875</th>\n",
       "      <td>8377</td>\n",
       "      <td>28678</td>\n",
       "      <td>1</td>\n",
       "    </tr>\n",
       "    <tr>\n",
       "      <th>305876</th>\n",
       "      <td>8377</td>\n",
       "      <td>38125</td>\n",
       "      <td>1</td>\n",
       "    </tr>\n",
       "    <tr>\n",
       "      <th>305878</th>\n",
       "      <td>8377</td>\n",
       "      <td>387936</td>\n",
       "      <td>1</td>\n",
       "    </tr>\n",
       "    <tr>\n",
       "      <th>305879</th>\n",
       "      <td>8377</td>\n",
       "      <td>776764</td>\n",
       "      <td>1</td>\n",
       "    </tr>\n",
       "  </tbody>\n",
       "</table>\n",
       "</div>"
      ],
      "text/plain": [
       "        Data  Target  count\n",
       "305873  8377      39      5\n",
       "305874  8377   14284      5\n",
       "305877  8377   56846      5\n",
       "305875  8377   28678      1\n",
       "305876  8377   38125      1\n",
       "305878  8377  387936      1\n",
       "305879  8377  776764      1"
      ]
     },
     "execution_count": 55,
     "metadata": {},
     "output_type": "execute_result"
    }
   ],
   "source": [
    "# отсортируем \n",
    "count_df.sort_values(by=[\"Data\", \"count\"], ascending=[True, False], inplace=True)\n",
    "# пример записи для Data=8377\n",
    "count_df[count_df['Data']==8377]"
   ]
  },
  {
   "cell_type": "markdown",
   "metadata": {},
   "source": [
    "Создадим dataframe в котором будут Target с количством повторений (count), заджойним его с датафреймом пересечений count_df"
   ]
  },
  {
   "cell_type": "code",
   "execution_count": 56,
   "metadata": {},
   "outputs": [
    {
     "data": {
      "text/html": [
       "<div>\n",
       "<style scoped>\n",
       "    .dataframe tbody tr th:only-of-type {\n",
       "        vertical-align: middle;\n",
       "    }\n",
       "\n",
       "    .dataframe tbody tr th {\n",
       "        vertical-align: top;\n",
       "    }\n",
       "\n",
       "    .dataframe thead th {\n",
       "        text-align: right;\n",
       "    }\n",
       "</style>\n",
       "<table border=\"1\" class=\"dataframe\">\n",
       "  <thead>\n",
       "    <tr style=\"text-align: right;\">\n",
       "      <th></th>\n",
       "      <th>Target</th>\n",
       "      <th>count</th>\n",
       "    </tr>\n",
       "  </thead>\n",
       "  <tbody>\n",
       "    <tr>\n",
       "      <th>0</th>\n",
       "      <td>2</td>\n",
       "      <td>56</td>\n",
       "    </tr>\n",
       "    <tr>\n",
       "      <th>1</th>\n",
       "      <td>3</td>\n",
       "      <td>58</td>\n",
       "    </tr>\n",
       "    <tr>\n",
       "      <th>2</th>\n",
       "      <td>4</td>\n",
       "      <td>38</td>\n",
       "    </tr>\n",
       "    <tr>\n",
       "      <th>3</th>\n",
       "      <td>5</td>\n",
       "      <td>40</td>\n",
       "    </tr>\n",
       "    <tr>\n",
       "      <th>4</th>\n",
       "      <td>11</td>\n",
       "      <td>77</td>\n",
       "    </tr>\n",
       "  </tbody>\n",
       "</table>\n",
       "</div>"
      ],
      "text/plain": [
       "   Target  count\n",
       "0       2     56\n",
       "1       3     58\n",
       "2       4     38\n",
       "3       5     40\n",
       "4      11     77"
      ]
     },
     "execution_count": 56,
     "metadata": {},
     "output_type": "execute_result"
    }
   ],
   "source": [
    "# создадим dataframe в котором каждому значению Target будет соответствовать количество повторений в data_train\n",
    "count_target=intersect_df.groupby([\"Target\"], as_index=False).count().rename(columns={'Id': 'count'})\n",
    "count_target=count_target.drop(['Data'], axis=1)\n",
    "count_target.head()"
   ]
  },
  {
   "cell_type": "code",
   "execution_count": 57,
   "metadata": {},
   "outputs": [
    {
     "data": {
      "text/html": [
       "<div>\n",
       "<style scoped>\n",
       "    .dataframe tbody tr th:only-of-type {\n",
       "        vertical-align: middle;\n",
       "    }\n",
       "\n",
       "    .dataframe tbody tr th {\n",
       "        vertical-align: top;\n",
       "    }\n",
       "\n",
       "    .dataframe thead th {\n",
       "        text-align: right;\n",
       "    }\n",
       "</style>\n",
       "<table border=\"1\" class=\"dataframe\">\n",
       "  <thead>\n",
       "    <tr style=\"text-align: right;\">\n",
       "      <th></th>\n",
       "      <th>Data</th>\n",
       "      <th>Target</th>\n",
       "      <th>CountDT</th>\n",
       "      <th>Count_T</th>\n",
       "    </tr>\n",
       "  </thead>\n",
       "  <tbody>\n",
       "    <tr>\n",
       "      <th>0</th>\n",
       "      <td>1</td>\n",
       "      <td>10119</td>\n",
       "      <td>1</td>\n",
       "      <td>493</td>\n",
       "    </tr>\n",
       "    <tr>\n",
       "      <th>1</th>\n",
       "      <td>232</td>\n",
       "      <td>10119</td>\n",
       "      <td>1</td>\n",
       "      <td>493</td>\n",
       "    </tr>\n",
       "    <tr>\n",
       "      <th>2</th>\n",
       "      <td>619</td>\n",
       "      <td>10119</td>\n",
       "      <td>1</td>\n",
       "      <td>493</td>\n",
       "    </tr>\n",
       "    <tr>\n",
       "      <th>3</th>\n",
       "      <td>890</td>\n",
       "      <td>10119</td>\n",
       "      <td>2</td>\n",
       "      <td>493</td>\n",
       "    </tr>\n",
       "    <tr>\n",
       "      <th>4</th>\n",
       "      <td>1004</td>\n",
       "      <td>10119</td>\n",
       "      <td>3</td>\n",
       "      <td>493</td>\n",
       "    </tr>\n",
       "  </tbody>\n",
       "</table>\n",
       "</div>"
      ],
      "text/plain": [
       "   Data  Target  CountDT  Count_T\n",
       "0     1   10119        1      493\n",
       "1   232   10119        1      493\n",
       "2   619   10119        1      493\n",
       "3   890   10119        2      493\n",
       "4  1004   10119        3      493"
      ]
     },
     "execution_count": 57,
     "metadata": {},
     "output_type": "execute_result"
    }
   ],
   "source": [
    "# заJOINим полученый dataframe с count_df\n",
    "count_df=count_df.merge(count_target, left_on='Target', right_on='Target')\n",
    "count_df.rename(columns={'count_x':'Count_DT', 'count_y':'Count_T'}, inplace=True)\n",
    "count_df.head()"
   ]
  },
  {
   "cell_type": "markdown",
   "metadata": {},
   "source": [
    "В нашем итоговом dataframe отсортируемся по убыванию Count_DT и Count_T и оставим только первые/верхние 10 значений (которые потенциально могут попасть в рекомендации), таким образом сократим размер нашего датафрейма и объем последующих вычислений."
   ]
  },
  {
   "cell_type": "code",
   "execution_count": 96,
   "metadata": {},
   "outputs": [
    {
     "data": {
      "application/vnd.jupyter.widget-view+json": {
       "model_id": "cbd5ebf15b7a4b49ab3718685d4c4994",
       "version_major": 2,
       "version_minor": 0
      },
      "text/plain": [
       "  0%|          | 0/543743 [00:00<?, ?it/s]"
      ]
     },
     "metadata": {},
     "output_type": "display_data"
    }
   ],
   "source": [
    "# Режем count_df, по каждому объекту Data, оставляем только топ10 пересечений с Target\n",
    "products_ids=count_df['Data'].unique()\n",
    "new_count_df=pd.DataFrame()\n",
    "for i in tqdm(range(len(products_ids))):\n",
    "    new_count_df=new_count_df.append(count_df[count_df['Data']==products_ids[i]].sort_values(['Data', 'Count_DT', 'Count_T'], ascending=False)[0:10])\n",
    "new_count_df.to_csv(\"new_count_df_only10.csv\", index=False)\n",
    "# запишем результат в файл и в последующих экспериментах будем им пользоваться"
   ]
  },
  {
   "cell_type": "code",
   "execution_count": 137,
   "metadata": {},
   "outputs": [
    {
     "name": "stdout",
     "output_type": "stream",
     "text": [
      "Размер до оптимизации:  7753830\n",
      "Размер после оптимизации:  3493529\n"
     ]
    }
   ],
   "source": [
    "new_count_df = pd.read_csv(\"new_count_df_only10.csv\")\n",
    "print('Размер до оптимизации: ',count_df.shape[0])\n",
    "print('Размер после оптимизации: ',new_count_df.shape[0])"
   ]
  },
  {
   "cell_type": "code",
   "execution_count": 95,
   "metadata": {},
   "outputs": [
    {
     "data": {
      "text/html": [
       "<div>\n",
       "<style scoped>\n",
       "    .dataframe tbody tr th:only-of-type {\n",
       "        vertical-align: middle;\n",
       "    }\n",
       "\n",
       "    .dataframe tbody tr th {\n",
       "        vertical-align: top;\n",
       "    }\n",
       "\n",
       "    .dataframe thead th {\n",
       "        text-align: right;\n",
       "    }\n",
       "</style>\n",
       "<table border=\"1\" class=\"dataframe\">\n",
       "  <thead>\n",
       "    <tr style=\"text-align: right;\">\n",
       "      <th></th>\n",
       "      <th>Data</th>\n",
       "      <th>Target</th>\n",
       "      <th>CountDT</th>\n",
       "      <th>Count_T</th>\n",
       "    </tr>\n",
       "  </thead>\n",
       "  <tbody>\n",
       "    <tr>\n",
       "      <th>309370</th>\n",
       "      <td>232</td>\n",
       "      <td>19911</td>\n",
       "      <td>2</td>\n",
       "      <td>461</td>\n",
       "    </tr>\n",
       "    <tr>\n",
       "      <th>309770</th>\n",
       "      <td>232</td>\n",
       "      <td>131606</td>\n",
       "      <td>2</td>\n",
       "      <td>181</td>\n",
       "    </tr>\n",
       "    <tr>\n",
       "      <th>310373</th>\n",
       "      <td>232</td>\n",
       "      <td>414008</td>\n",
       "      <td>2</td>\n",
       "      <td>170</td>\n",
       "    </tr>\n",
       "    <tr>\n",
       "      <th>311227</th>\n",
       "      <td>232</td>\n",
       "      <td>1777380</td>\n",
       "      <td>2</td>\n",
       "      <td>165</td>\n",
       "    </tr>\n",
       "    <tr>\n",
       "      <th>309935</th>\n",
       "      <td>232</td>\n",
       "      <td>156218</td>\n",
       "      <td>2</td>\n",
       "      <td>163</td>\n",
       "    </tr>\n",
       "    <tr>\n",
       "      <th>310224</th>\n",
       "      <td>232</td>\n",
       "      <td>252820</td>\n",
       "      <td>2</td>\n",
       "      <td>162</td>\n",
       "    </tr>\n",
       "    <tr>\n",
       "      <th>310663</th>\n",
       "      <td>232</td>\n",
       "      <td>566957</td>\n",
       "      <td>2</td>\n",
       "      <td>157</td>\n",
       "    </tr>\n",
       "    <tr>\n",
       "      <th>311085</th>\n",
       "      <td>232</td>\n",
       "      <td>1063325</td>\n",
       "      <td>2</td>\n",
       "      <td>156</td>\n",
       "    </tr>\n",
       "    <tr>\n",
       "      <th>310085</th>\n",
       "      <td>232</td>\n",
       "      <td>239288</td>\n",
       "      <td>2</td>\n",
       "      <td>152</td>\n",
       "    </tr>\n",
       "    <tr>\n",
       "      <th>310524</th>\n",
       "      <td>232</td>\n",
       "      <td>524393</td>\n",
       "      <td>2</td>\n",
       "      <td>152</td>\n",
       "    </tr>\n",
       "  </tbody>\n",
       "</table>\n",
       "</div>"
      ],
      "text/plain": [
       "        Data   Target  CountDT  Count_T\n",
       "309370   232    19911        2      461\n",
       "309770   232   131606        2      181\n",
       "310373   232   414008        2      170\n",
       "311227   232  1777380        2      165\n",
       "309935   232   156218        2      163\n",
       "310224   232   252820        2      162\n",
       "310663   232   566957        2      157\n",
       "311085   232  1063325        2      156\n",
       "310085   232   239288        2      152\n",
       "310524   232   524393        2      152"
      ]
     },
     "execution_count": 95,
     "metadata": {},
     "output_type": "execute_result"
    }
   ],
   "source": [
    "i=1\n",
    "products_ids=count_df['Data'].unique()\n",
    "new_count_df=pd.DataFrame()\n",
    "count_df[count_df['Data']==products_ids[i]].sort_values(['Data', 'CountDT', 'Count_T'], ascending=False)[0:10]"
   ]
  },
  {
   "cell_type": "markdown",
   "metadata": {},
   "source": [
    "Следующее решение было самым последним в цепочке экспериментов и дало самый высокий score. В нем, в том числе, все единичные пересечения земняются на самые вероятные из base_rec, в каждой рекмомендации выдается именно 10 позиций, а не меньше, отбор рекомендаций для выдачи происходит по отбору самых весомых по пересекаемости и повторению в учебном датафрейме. "
   ]
  },
  {
   "cell_type": "code",
   "execution_count": 135,
   "metadata": {},
   "outputs": [],
   "source": [
    "# опишем функцию\n",
    "def target_gen(data_str):\n",
    "    products = [int(prod) for prod in data_str.split()]\n",
    "    k=new_count_df[new_count_df[\"Data\"].isin(products)].sort_values(by=['CountDT', 'Count_T'], ascending=False)[0:10]\n",
    "    k=k[k['CountDT']!=1]\n",
    "    recs_ids=(k['Target'].values.tolist()+base_rec_int)[0:10]\n",
    "    return \" \".join([str(prod) for prod in recs_ids]) if len(recs_ids) else base_rec"
   ]
  },
  {
   "cell_type": "code",
   "execution_count": 136,
   "metadata": {},
   "outputs": [
    {
     "data": {
      "application/vnd.jupyter.widget-view+json": {
       "model_id": "cc261c6052a94721bd42a5f227106544",
       "version_major": 2,
       "version_minor": 0
      },
      "text/plain": [
       "  0%|          | 0/200000 [00:00<?, ?it/s]"
      ]
     },
     "metadata": {},
     "output_type": "display_data"
    }
   ],
   "source": [
    "recs_lst = []\n",
    "for _, row in tqdm(data_test.iterrows(), total=data_test.shape[0]):\n",
    "    recs_lst.append(target_gen(row[\"Data\"]))\n",
    "    \n",
    "# запись результата в файл\n",
    "submission[\"Predicted\"] = recs_lst\n",
    "submission.to_csv(\"SorokaD_14.02.22_topTarget_sort.csv\", index=False)"
   ]
  },
  {
   "cell_type": "code",
   "execution_count": null,
   "metadata": {},
   "outputs": [],
   "source": []
  },
  {
   "cell_type": "markdown",
   "metadata": {},
   "source": [
    "__Ниже приведена цепочка/последовательность рассуждений в процессе работы над задачей.__"
   ]
  },
  {
   "cell_type": "code",
   "execution_count": null,
   "metadata": {},
   "outputs": [],
   "source": []
  },
  {
   "cell_type": "markdown",
   "metadata": {},
   "source": [
    "__Если использовать id товаров в качестве индексов, размер матрицы будет очень большим. Перейдем от id к номеру товара.__"
   ]
  },
  {
   "cell_type": "code",
   "execution_count": 18,
   "metadata": {},
   "outputs": [
    {
     "data": {
      "text/plain": [
       "872533"
      ]
     },
     "execution_count": 18,
     "metadata": {},
     "output_type": "execute_result"
    }
   ],
   "source": [
    "# список всех продуктов и data и target\n",
    "all_products = set(count_df[\"Data\"].unique().tolist() + count_df[\"Target\"].unique().tolist())\n",
    "len(all_products)"
   ]
  },
  {
   "cell_type": "code",
   "execution_count": 19,
   "metadata": {},
   "outputs": [
    {
     "data": {
      "text/plain": [
       "872533"
      ]
     },
     "execution_count": 19,
     "metadata": {},
     "output_type": "execute_result"
    }
   ],
   "source": [
    "# Пронумерованный Словарь номер товара -> id товара \n",
    "num_to_id = dict(enumerate(all_products))\n",
    "# Пронумерованный Словарь id товара -> номер товара\n",
    "id_to_num = dict(zip(num_to_id.values(), num_to_id.keys()))\n",
    "len(id_to_num)"
   ]
  },
  {
   "cell_type": "markdown",
   "metadata": {},
   "source": [
    "__Сделаем матрицу пересечений, по строкам значения из Data, в столбцах значения из Target, в ячейках сумма/количество пересечений__"
   ]
  },
  {
   "cell_type": "code",
   "execution_count": 20,
   "metadata": {},
   "outputs": [
    {
     "data": {
      "text/html": [
       "<div>\n",
       "<style scoped>\n",
       "    .dataframe tbody tr th:only-of-type {\n",
       "        vertical-align: middle;\n",
       "    }\n",
       "\n",
       "    .dataframe tbody tr th {\n",
       "        vertical-align: top;\n",
       "    }\n",
       "\n",
       "    .dataframe thead th {\n",
       "        text-align: right;\n",
       "    }\n",
       "</style>\n",
       "<table border=\"1\" class=\"dataframe\">\n",
       "  <thead>\n",
       "    <tr style=\"text-align: right;\">\n",
       "      <th></th>\n",
       "      <th>Data</th>\n",
       "      <th>Target</th>\n",
       "      <th>count</th>\n",
       "    </tr>\n",
       "  </thead>\n",
       "  <tbody>\n",
       "    <tr>\n",
       "      <th>4871245</th>\n",
       "      <td>640044</td>\n",
       "      <td>9492</td>\n",
       "      <td>50</td>\n",
       "    </tr>\n",
       "    <tr>\n",
       "      <th>4871247</th>\n",
       "      <td>640044</td>\n",
       "      <td>28279</td>\n",
       "      <td>50</td>\n",
       "    </tr>\n",
       "    <tr>\n",
       "      <th>4871249</th>\n",
       "      <td>640044</td>\n",
       "      <td>39272</td>\n",
       "      <td>50</td>\n",
       "    </tr>\n",
       "    <tr>\n",
       "      <th>4871256</th>\n",
       "      <td>640044</td>\n",
       "      <td>94187</td>\n",
       "      <td>50</td>\n",
       "    </tr>\n",
       "    <tr>\n",
       "      <th>4871257</th>\n",
       "      <td>640044</td>\n",
       "      <td>116917</td>\n",
       "      <td>50</td>\n",
       "    </tr>\n",
       "    <tr>\n",
       "      <th>4871269</th>\n",
       "      <td>640044</td>\n",
       "      <td>371505</td>\n",
       "      <td>50</td>\n",
       "    </tr>\n",
       "    <tr>\n",
       "      <th>4871272</th>\n",
       "      <td>640044</td>\n",
       "      <td>520499</td>\n",
       "      <td>50</td>\n",
       "    </tr>\n",
       "    <tr>\n",
       "      <th>4871273</th>\n",
       "      <td>640044</td>\n",
       "      <td>623460</td>\n",
       "      <td>50</td>\n",
       "    </tr>\n",
       "    <tr>\n",
       "      <th>4871275</th>\n",
       "      <td>640044</td>\n",
       "      <td>754773</td>\n",
       "      <td>50</td>\n",
       "    </tr>\n",
       "  </tbody>\n",
       "</table>\n",
       "</div>"
      ],
      "text/plain": [
       "           Data  Target  count\n",
       "4871245  640044    9492     50\n",
       "4871247  640044   28279     50\n",
       "4871249  640044   39272     50\n",
       "4871256  640044   94187     50\n",
       "4871257  640044  116917     50\n",
       "4871269  640044  371505     50\n",
       "4871272  640044  520499     50\n",
       "4871273  640044  623460     50\n",
       "4871275  640044  754773     50"
      ]
     },
     "execution_count": 20,
     "metadata": {},
     "output_type": "execute_result"
    }
   ],
   "source": [
    "count_matrix = csr_matrix((count_df[\"count\"].values,\n",
    "              (count_df[\"Data\"].map(id_to_num).values, count_df[\"Target\"].map(id_to_num).values)))\n",
    "# для примера: элементы таблицы где пересечений >=50\n",
    "count_df[count_df[\"count\"] >= 50]\n"
   ]
  },
  {
   "cell_type": "code",
   "execution_count": 21,
   "metadata": {},
   "outputs": [
    {
     "data": {
      "text/plain": [
       "50"
      ]
     },
     "execution_count": 21,
     "metadata": {},
     "output_type": "execute_result"
    }
   ],
   "source": [
    "# в ячейке матрице скоординатами '640044'x'9492' лежит количество пересечений этих двух товаров\n",
    "count_matrix[id_to_num[640044], id_to_num[9492]]"
   ]
  },
  {
   "cell_type": "code",
   "execution_count": null,
   "metadata": {},
   "outputs": [],
   "source": [
    "# перевод разряженной матрицы в DataFrame. ACHTUNG !!! очень долго !!!\n",
    "# sdf = pd.DataFrame.sparse.from_spmatrix(count_matrix)\n",
    "# sdf.head()"
   ]
  },
  {
   "cell_type": "code",
   "execution_count": null,
   "metadata": {},
   "outputs": [],
   "source": [
    "# попытка создать матрицу все-data-товары на 10 самых тяжелых рекомендаций \n",
    "# очень долго, расчетное время 12 часов\n",
    "#recs_lst=[]\n",
    "#for i in tqdm(range(len(count_df[\"Data\"].unique().tolist()))):\n",
    "#    sum_matrix = np.sum(count_matrix[id_to_num[1], :], axis=0)\n",
    "#    recs_num = np.argsort(-sum_matrix).tolist()[0][:10]\n",
    "#    recs_ids = [num_to_id[num] for num in recs_num]\n",
    "#    recs_lst.append(recs_ids)"
   ]
  },
  {
   "cell_type": "markdown",
   "metadata": {},
   "source": [
    "__Работа с марицей пересечений очень затратна по времени__ ... всякая попытка поработать с матрицей упирается либо недостаток ресурса либо в \"бесконечное\" время 12+ часов."
   ]
  },
  {
   "cell_type": "code",
   "execution_count": 22,
   "metadata": {},
   "outputs": [
    {
     "name": "stderr",
     "output_type": "stream",
     "text": [
      "<ipython-input-22-5ce32061055c>:7: UserWarning: Matplotlib is currently using module://ipykernel.pylab.backend_inline, which is a non-GUI backend, so cannot show the figure.\n",
      "  fig.show()\n"
     ]
    },
    {
     "data": {
      "image/png": "[encoded data removed]",
      "text/plain": [
       "<Figure size 1440x720 with 2 Axes>"
      ]
     },
     "metadata": {
      "needs_background": "light"
     },
     "output_type": "display_data"
    }
   ],
   "source": [
    "# Посмотрим на распределение количеств пересечений\n",
    "fig, ax =plt.subplots(1,2,figsize=(20,10))\n",
    "sns.histplot(count_df.query('count>=1')['count'], ax=ax[0],bins=100)\n",
    "ax[0].set_title('Распределение всех количеств пересечений')\n",
    "sns.histplot(count_df.query('count>=2')['count'], ax=ax[1],bins=100)\n",
    "ax[1].set_title('Распределение количеств пересечений >=2')\n",
    "fig.show()\n"
   ]
  },
  {
   "cell_type": "code",
   "execution_count": 23,
   "metadata": {},
   "outputs": [
    {
     "name": "stdout",
     "output_type": "stream",
     "text": [
      "Пар у которых количество пересечений =1 : 6974595\n",
      "Пар у которых количество пересечений >=2 : 779235\n"
     ]
    }
   ],
   "source": [
    "print('Пар у которых количество пересечений =1 :', count_df.query('count==1').shape[0])\n",
    "print('Пар у которых количество пересечений >=2 :', count_df.query('count>=2').shape[0])"
   ]
  },
  {
   "cell_type": "markdown",
   "metadata": {},
   "source": [
    "Наблюдаем, что 'единичных' пересечений 90%. "
   ]
  },
  {
   "cell_type": "markdown",
   "metadata": {},
   "source": [
    "__Логика отбора рекомендаций для Data__ (оставил 'разжеваным' для себя, что бы, быть может потом, легче было вспомнить)."
   ]
  },
  {
   "cell_type": "code",
   "execution_count": 24,
   "metadata": {},
   "outputs": [
    {
     "data": {
      "text/plain": [
       "[2779, 85529, 541945, 29604, 160, 859, 72567, 1038377, 357444, 2788943]"
      ]
     },
     "execution_count": 24,
     "metadata": {},
     "output_type": "execute_result"
    }
   ],
   "source": [
    "# единичный пример отбора рекомендаций для data=160\n",
    "k=count_df.query('Data==160')\n",
    "k=k.sort_values(by=[\"count\"], ascending=False)[0:10]\n",
    "rec_ids=k['Target']\n",
    "rec_ids=rec_ids.values.tolist()\n",
    "rec_ids"
   ]
  },
  {
   "cell_type": "code",
   "execution_count": 25,
   "metadata": {},
   "outputs": [
    {
     "data": {
      "text/plain": [
       "[2779, 85529, 541945, 29604, 160, 859, 72567, 1038377, 357444, 2788943]"
      ]
     },
     "execution_count": 25,
     "metadata": {},
     "output_type": "execute_result"
    }
   ],
   "source": [
    "\n",
    "# единичный пример отбора рекомендаций для Data= 160, 1196196\n",
    "k=count_df[count_df[\"Data\"].isin([160, 1196196])]\n",
    "# сортируем их по убыванию count, отбираем 10 верхних\n",
    "k=k.sort_values(by=[\"count\"], ascending=False)[0:10]\n",
    "# формируем запись в Target test-набора\n",
    "rec_ids=k['Target']\n",
    "rec_ids=rec_ids.values.tolist()\n",
    "rec_ids\n",
    "# 'всплывают' только самые 'тяжелые' рекомендации по обоим/всем значениям Data"
   ]
  },
  {
   "cell_type": "code",
   "execution_count": 26,
   "metadata": {},
   "outputs": [
    {
     "data": {
      "text/plain": [
       "[59161,\n",
       " 591989,\n",
       " 235922,\n",
       " 2687879,\n",
       " 2610350,\n",
       " 1036463,\n",
       " 1032225,\n",
       " 1029503,\n",
       " 951960,\n",
       " 926660]"
      ]
     },
     "execution_count": 26,
     "metadata": {},
     "output_type": "execute_result"
    }
   ],
   "source": [
    "# в переменную j кладем 5 строку столбца data массива test \n",
    "j=data_test['Data'].loc[5]\n",
    "# переводим строку в int список \n",
    "products = [int(prod) for prod in j.split()]\n",
    "k=count_df[count_df[\"Data\"].isin(products)]\n",
    "# сортируем их по убыванию count, отбираем 10 верхних\n",
    "k=k.sort_values(by=[\"count\"], ascending=False)[0:10]\n",
    "# формируем запись в Target test-набора\n",
    "rec_ids=k['Target']\n",
    "rec_ids=rec_ids.values.tolist()\n",
    "rec_ids"
   ]
  },
  {
   "cell_type": "code",
   "execution_count": 27,
   "metadata": {},
   "outputs": [],
   "source": [
    "# Собираем все в кучу и Описываем функцию\n",
    "def target_gen(data_str):\n",
    "    products = [int(prod) for prod in data_str.split()]\n",
    "    k=count_df[count_df[\"Data\"].isin(products)]\n",
    "    k=k.sort_values(by=[\"count\"], ascending=False)[0:10]\n",
    "    recs_ids=k['Target'].values.tolist()\n",
    "    return \" \".join([str(prod) for prod in recs_ids]) if len(recs_ids) else base_rec\n",
    "# обращаем внимание на то, что возможно ситуация когда функция вернет <10 рекомендаций"
   ]
  },
  {
   "cell_type": "code",
   "execution_count": 28,
   "metadata": {},
   "outputs": [
    {
     "name": "stdout",
     "output_type": "stream",
     "text": [
      "59161 591989 235922 2687879 2610350 1036463 1032225 1029503 951960 926660\n"
     ]
    }
   ],
   "source": [
    "# посмотрим на результат на примере 5 строки\n",
    "print(target_gen(data_test['Data'].loc[5]))"
   ]
  },
  {
   "cell_type": "markdown",
   "metadata": {},
   "source": [
    "псевдоФИНАЛЬНЫЙ РАСЧЕТ ЗНАЧЕНИЙ TARGET (на этом этапе 'всплыли' небольшие ошибки, которые были исправлены)."
   ]
  },
  {
   "cell_type": "code",
   "execution_count": null,
   "metadata": {},
   "outputs": [],
   "source": [
    "# запуск функции по всему data_test\n",
    "recs_lst = []\n",
    "for _, row in tqdm(data_test.iterrows(), total=data_test.shape[0]):\n",
    "    recs_lst.append(target_gen(row[\"Data\"]))\n",
    "    \n",
    "# запись результата в файл\n",
    "submission[\"Predicted\"] = recs_lst\n",
    "submission.to_csv(PATH + \"SorokaD_bl3.csv\", index=False)"
   ]
  },
  {
   "cell_type": "markdown",
   "metadata": {},
   "source": [
    "__Попробуем сократить время расчетов и создаим new_count_df, каждму пересечению Data и Target оставим только топ10 самых частых пересечений__ (это первый вариант усеченного count_df с одним столбцом count,  время выполнения 9 часов, не уверен что это было нужно... по моему всетаки финальные расчеты что так, что так занимают 2-3 часа, а нет .... с неурезанным count_df 8-9 часов, значит нужно)"
   ]
  },
  {
   "cell_type": "code",
   "execution_count": null,
   "metadata": {},
   "outputs": [],
   "source": [
    "# Режем count_df, по каждому объекту Data, оставляем только топ10 пересечений с Target\n",
    "products_ids=count_df['Data'].unique()\n",
    "new_count_df=pd.DataFrame()\n",
    "for i in tqdm(range(len(products_ids))):\n",
    "    new_count_df=new_count_df.append(count_df[count_df['Data']==products_ids[i]].head(10))\n",
    "new_count_df.to_csv(\"new_count_df_only10.csv\", index=False)\n",
    "# запишем результат в файл и в последующих экспериментах будем им пользоваться"
   ]
  },
  {
   "cell_type": "code",
   "execution_count": 29,
   "metadata": {},
   "outputs": [
    {
     "name": "stdout",
     "output_type": "stream",
     "text": [
      "Размер до оптимизации:  7753830\n",
      "Размер после оптимизации:  3493529\n"
     ]
    }
   ],
   "source": [
    "new_count_df = pd.read_csv(\"new_count_df_only10.csv\")\n",
    "print('Размер до оптимизации: ',count_df.shape[0])\n",
    "print('Размер после оптимизации: ',new_count_df.shape[0])"
   ]
  },
  {
   "cell_type": "markdown",
   "metadata": {},
   "source": [
    "По логике работы алгоритма мы всем товарам из строки Data (data_test) отбираем 10 наиболее часто продаваемых товаров из Target (data_train) за предыдущий/известный период и таким образом строим рекомендацию. Если в data_test встречается товар по которому нет истории в data_train мы, на удачу, рекомендуем топ10 самых продаваемых товаров из Target в истории data_train. \n",
    "\n",
    "__Попробуем в отдельную задачу выделить случай, когда за историю data_train пересечения товаров случались только 1 раз__. Можем ли мы считать единичное пересечение Data и Target поводом для рекомендации !?!?!? "
   ]
  },
  {
   "cell_type": "code",
   "execution_count": 30,
   "metadata": {},
   "outputs": [
    {
     "name": "stdout",
     "output_type": "stream",
     "text": [
      "Пар у которых количество пересечений =1 : 6974595\n",
      "Пар у которых количество пересечений =2+ : 779235\n"
     ]
    }
   ],
   "source": [
    "print('Пар у которых количество пересечений =1 :', count_df.query('count==1').shape[0])\n",
    "print('Пар у которых количество пересечений =2+ :', count_df.query('count>=2').shape[0])"
   ]
  },
  {
   "cell_type": "code",
   "execution_count": 31,
   "metadata": {},
   "outputs": [
    {
     "data": {
      "text/plain": [
       "'3125 2607 859 1443 6523 11446 5306 4254 4232 7144'"
      ]
     },
     "execution_count": 31,
     "metadata": {},
     "output_type": "execute_result"
    }
   ],
   "source": [
    "# наши рекомендации на случай 'отсутсвия данных'\n",
    "base_rec"
   ]
  },
  {
   "cell_type": "code",
   "execution_count": 32,
   "metadata": {},
   "outputs": [
    {
     "data": {
      "text/plain": [
       "'3125 2607 859 1443 11446 6523 5306 4254 7144 558'"
      ]
     },
     "execution_count": 32,
     "metadata": {},
     "output_type": "execute_result"
    }
   ],
   "source": [
    "# Список наиболее частых Target среди единичных пересечений\n",
    "temp_df=count_df.query('count==1')\n",
    "cnt_target = Counter(temp_df[\"Target\"])\n",
    "rec_ids = list(map(lambda x: x[0], cnt_target.most_common(10)))\n",
    "base_rec1 = \" \".join([str(id) for id in rec_ids])\n",
    "base_rec1_int=rec_ids\n",
    "base_rec1"
   ]
  },
  {
   "cell_type": "markdown",
   "metadata": {},
   "source": [
    "Практически нет разницы в 'общих ' и 'единичных' топ10 (разница в одну позицию + есть 'ранговые' различия).\n",
    "\n",
    "Попытка объявить единичные пересечения абсолютно случайными и упразнить их (полностью от них отказаться) привела к заметному снижению качества работы алгоритма.\n",
    "\n",
    "Я бы попорбовал заменить 'едниничные' рекомендации на топ10, который вычислил выше, если будет время - попробую и сравню результат (эта идея привела к увеличеиню score)."
   ]
  },
  {
   "cell_type": "markdown",
   "metadata": {},
   "source": [
    "Кроме того, мы наблюдаем, что возможна ситуация когда наш алгоритм 'недорекомендует'..., в то время как в рекомендации может быть 10 товаров, алгоритм выдает меньше. "
   ]
  },
  {
   "cell_type": "code",
   "execution_count": 33,
   "metadata": {},
   "outputs": [
    {
     "data": {
      "text/html": [
       "<div>\n",
       "<style scoped>\n",
       "    .dataframe tbody tr th:only-of-type {\n",
       "        vertical-align: middle;\n",
       "    }\n",
       "\n",
       "    .dataframe tbody tr th {\n",
       "        vertical-align: top;\n",
       "    }\n",
       "\n",
       "    .dataframe thead th {\n",
       "        text-align: right;\n",
       "    }\n",
       "</style>\n",
       "<table border=\"1\" class=\"dataframe\">\n",
       "  <thead>\n",
       "    <tr style=\"text-align: right;\">\n",
       "      <th></th>\n",
       "      <th>Data</th>\n",
       "      <th>Target</th>\n",
       "      <th>count</th>\n",
       "    </tr>\n",
       "  </thead>\n",
       "  <tbody>\n",
       "    <tr>\n",
       "      <th>2031856</th>\n",
       "      <td>801643</td>\n",
       "      <td>86</td>\n",
       "      <td>3</td>\n",
       "    </tr>\n",
       "  </tbody>\n",
       "</table>\n",
       "</div>"
      ],
      "text/plain": [
       "           Data  Target  count\n",
       "2031856  801643      86      3"
      ]
     },
     "execution_count": 33,
     "metadata": {},
     "output_type": "execute_result"
    }
   ],
   "source": [
    "# посмотрим на пример с Data=801643\n",
    "new_count_df.query('Data==801643')"
   ]
  },
  {
   "cell_type": "code",
   "execution_count": 34,
   "metadata": {},
   "outputs": [
    {
     "name": "stdout",
     "output_type": "stream",
     "text": [
      "Рекомендация нашего алгоритма для Data=801643:  86\n"
     ]
    }
   ],
   "source": [
    "print('Рекомендация нашего алгоритма для Data=801643: ', target_gen('801643'))"
   ]
  },
  {
   "cell_type": "markdown",
   "metadata": {},
   "source": [
    "__1 рекомендация - это непристойно мало__, в то время когда мы имеем возможность дать 10. Изменим функцию target_gen... Много думал как лучше поступить, делать ли if каждой полученной строки и по результатам добавлять необходимое или 'по умолчанию' приплюсовывать к каждой результирующей строке base_rec срезая полученное до 10 значений..., вопрос борьбы за время!!! не обладая достоверными знаниями на предмето того, что же будет работать быстрее, предположу, что второй вариант интереснее. "
   ]
  },
  {
   "cell_type": "code",
   "execution_count": 35,
   "metadata": {},
   "outputs": [],
   "source": [
    "# дополненная функция \n",
    "def target_gen(data_str):\n",
    "    products = [int(prod) for prod in data_str.split()]\n",
    "    k=new_count_df[new_count_df[\"Data\"].isin(products)].sort_values(by=[\"count\"], ascending=False)[0:10]\n",
    "    recs_ids=(k['Target'].values.tolist()+base_rec_int)[0:10]\n",
    "    return \" \".join([str(prod) for prod in recs_ids]) if len(recs_ids) else base_rec"
   ]
  },
  {
   "cell_type": "code",
   "execution_count": 36,
   "metadata": {},
   "outputs": [
    {
     "name": "stdout",
     "output_type": "stream",
     "text": [
      "Рекомендация нашего алгоритма с учетом модификации:  86 3125 2607 859 1443 6523 11446 5306 4254 4232\n"
     ]
    }
   ],
   "source": [
    "# проверим как работает\n",
    "print('Рекомендация нашего алгоритма с учетом модификации: ', target_gen('801643'))"
   ]
  },
  {
   "cell_type": "markdown",
   "metadata": {},
   "source": [
    "Я бы еще предположил что есть/могут быть какие-то парные связи, типа: сегодня купив ботинки и брюки, завтра человек приходит за носками... если такие парные связи есть, то можно пробовать улучшить качество/плотность рекомендации. Не уверен, что поспею к сроку с реализацией этой идеи...."
   ]
  },
  {
   "cell_type": "code",
   "execution_count": 154,
   "metadata": {},
   "outputs": [
    {
     "data": {
      "application/vnd.jupyter.widget-view+json": {
       "model_id": "36a1a820db3d4e32bc467f0b5f9fee86",
       "version_major": 2,
       "version_minor": 0
      },
      "text/plain": [
       "  0%|          | 0/200000 [00:00<?, ?it/s]"
      ]
     },
     "metadata": {},
     "output_type": "display_data"
    }
   ],
   "source": [
    "recs_lst = []\n",
    "for _, row in tqdm(data_test.iterrows(), total=data_test.shape[0]):\n",
    "    recs_lst.append(target_gen(row[\"Data\"]))\n",
    "\n",
    "# запись результата в файл\n",
    "submission[\"Predicted\"] = recs_lst\n",
    "submission.to_csv(\"SorokaD_bl3_plus.csv\", index=False)"
   ]
  },
  {
   "cell_type": "markdown",
   "metadata": {},
   "source": [
    "Попробуем предположить абсолютную случайность единичных пересечений и в рекомендациях заменим все единичные пересечения на значения из base_rec(_1) (топ10 среди 'единичных' пересечений)"
   ]
  },
  {
   "cell_type": "code",
   "execution_count": 37,
   "metadata": {},
   "outputs": [],
   "source": [
    "# дополненная функция, там где попадаются единицы рекомендуем base_rec1\n",
    "def target_gen(data_str):\n",
    "    products = [int(prod) for prod in data_str.split()]\n",
    "    k=new_count_df[new_count_df[\"Data\"].isin(products)].sort_values(by=[\"count\"], ascending=False)[0:10]\n",
    "    if k['count'].count()<=10: return base_rec1 # ошибка !!! все рекомендации, количеством <=10 обращаются в base_rec1 \n",
    "    recs_ids=(k['Target'].values.tolist()+base_rec_int)[0:10]\n",
    "    print(recs_ids)\n",
    "    return \" \".join([str(prod) for prod in recs_ids]) if len(recs_ids) else base_rec"
   ]
  },
  {
   "cell_type": "code",
   "execution_count": 61,
   "metadata": {},
   "outputs": [
    {
     "data": {
      "application/vnd.jupyter.widget-view+json": {
       "model_id": "01b63422c3434ab2bfe913a88459d131",
       "version_major": 2,
       "version_minor": 0
      },
      "text/plain": [
       "  0%|          | 0/200000 [00:00<?, ?it/s]"
      ]
     },
     "metadata": {},
     "output_type": "display_data"
    }
   ],
   "source": [
    "recs_lst = []\n",
    "for _, row in tqdm(data_test.iterrows(), total=data_test.shape[0]):\n",
    "    recs_lst.append(target_gen(row[\"Data\"]))\n",
    "\n",
    "# запись результата в файл\n",
    "submission[\"Predicted\"] = recs_lst\n",
    "submission.to_csv(\"SorokaD_bl3_plus_1.csv\", index=False)\n"
   ]
  },
  {
   "cell_type": "markdown",
   "metadata": {},
   "source": [
    "__Идея оказалась плохой, результат score=0.0010!!!__ Хотя это очень странно..., полез разбираться, нашел ошибку, переписываем функцию и делаем еще раз."
   ]
  },
  {
   "cell_type": "markdown",
   "metadata": {},
   "source": [
    "Функция добивания единичных пересечений самыми популярными рекомендациями из 'единичных' (привело к ухудшению score)"
   ]
  },
  {
   "cell_type": "code",
   "execution_count": 38,
   "metadata": {},
   "outputs": [],
   "source": [
    "def target_gen(data_str):\n",
    "    products = [int(prod) for prod in data_str.split()]\n",
    "    k=new_count_df[new_count_df[\"Data\"].isin(products)].sort_values(by=[\"count\"], ascending=False)[0:10]\n",
    "    k=k[k['count']!=1]\n",
    "    recs_ids=(k['Target'].values.tolist()+base_rec1_int)[0:10]\n",
    "    return \" \".join([str(prod) for prod in recs_ids]) if len(recs_ids) else base_rec"
   ]
  },
  {
   "cell_type": "code",
   "execution_count": 55,
   "metadata": {},
   "outputs": [
    {
     "data": {
      "application/vnd.jupyter.widget-view+json": {
       "model_id": "0a6f5b51aaca479c8c99b7ff8140770c",
       "version_major": 2,
       "version_minor": 0
      },
      "text/plain": [
       "  0%|          | 0/200000 [00:00<?, ?it/s]"
      ]
     },
     "metadata": {},
     "output_type": "display_data"
    }
   ],
   "source": [
    "recs_lst = []\n",
    "for _, row in tqdm(data_test.iterrows(), total=data_test.shape[0]):\n",
    "    recs_lst.append(target_gen(row[\"Data\"]))\n",
    "    \n",
    "# запись результата в файл\n",
    "submission[\"Predicted\"] = recs_lst\n",
    "submission.to_csv(\"SorokaD_11.02.22_19.33.csv\", index=False)"
   ]
  },
  {
   "cell_type": "markdown",
   "metadata": {},
   "source": [
    "Функция добивания единичных+2 пересечений самыми популярными рекомендациями (результат ухудшился, отметаем эту идею)"
   ]
  },
  {
   "cell_type": "code",
   "execution_count": 39,
   "metadata": {},
   "outputs": [],
   "source": [
    "def target_gen(data_str):\n",
    "    products = [int(prod) for prod in data_str.split()]\n",
    "    k=new_count_df[new_count_df[\"Data\"].isin(products)].sort_values(by=[\"count\"], ascending=False)[0:10]\n",
    "    k=k[k['count']>2]\n",
    "    recs_ids=(k['Target'].values.tolist()+base_rec_int)[0:10]\n",
    "    return \" \".join([str(prod) for prod in recs_ids]) if len(recs_ids) else base_rec"
   ]
  },
  {
   "cell_type": "code",
   "execution_count": 98,
   "metadata": {},
   "outputs": [
    {
     "data": {
      "application/vnd.jupyter.widget-view+json": {
       "model_id": "a2fff2e39c7e4b578dbfefa2b3752321",
       "version_major": 2,
       "version_minor": 0
      },
      "text/plain": [
       "  0%|          | 0/200000 [00:00<?, ?it/s]"
      ]
     },
     "metadata": {},
     "output_type": "display_data"
    }
   ],
   "source": [
    "recs_lst = []\n",
    "for _, row in tqdm(data_test.iterrows(), total=data_test.shape[0]):\n",
    "    recs_lst.append(target_gen(row[\"Data\"]))\n",
    "# запись результата в файл\n",
    "submission[\"Predicted\"] = recs_lst\n",
    "submission.to_csv(\"SorokaD_11.02.22_23.03.csv\", index=False)"
   ]
  },
  {
   "cell_type": "markdown",
   "metadata": {},
   "source": [
    "__Главные компоненты.__ Все-таки было бы любопытно поработать с count_matrix, так например выбирать пример(ы) для подражания опираясь на похожесть объектов Data(например когда у нас еть 10+ объектов с равным/соизмеримым количеством пересечений) используя косинусное расстояние между ними.\n",
    "\n",
    "Попробуем уменьшить размерность count_matrix методом главных компонент."
   ]
  },
  {
   "cell_type": "code",
   "execution_count": 111,
   "metadata": {},
   "outputs": [
    {
     "data": {
      "text/plain": [
       "0.04860660478466556"
      ]
     },
     "execution_count": 111,
     "metadata": {},
     "output_type": "execute_result"
    }
   ],
   "source": [
    "from sklearn.decomposition import TruncatedSVD\n",
    "# svd\n",
    "svd = TruncatedSVD(n_components=5)\n",
    "svd.fit(count_matrix)\n",
    "result = svd.transform(count_matrix)\n",
    "# результат строки ниже позволяет оценить насколько хорошо n_components=5 будет отображать изменчивость наших данных\n",
    "svd.explained_variance_ratio_.sum()"
   ]
  },
  {
   "cell_type": "code",
   "execution_count": 110,
   "metadata": {},
   "outputs": [
    {
     "data": {
      "text/plain": [
       "0.25915761336649334"
      ]
     },
     "execution_count": 110,
     "metadata": {},
     "output_type": "execute_result"
    }
   ],
   "source": [
    "# попробуем оценить качество svd при n_components=200\n",
    "svd = TruncatedSVD(n_components=200)\n",
    "svd.fit(count_matrix)\n",
    "result = svd.transform(count_matrix)\n",
    "# print(result)\n",
    "svd.explained_variance_ratio_.sum()"
   ]
  },
  {
   "cell_type": "markdown",
   "metadata": {},
   "source": [
    "25.9% мало (желаемое - 80-90%), пока ячейка отрабатывалась, ноутбук утратил признаки жизни, ушел в глубокую медитаию, но результат все-таки выдал. Попытку отыскать приемлимый n_components, в условиях моего железа, считаю не целесообразной."
   ]
  }
 ],
 "metadata": {
  "kernelspec": {
   "display_name": "Python 3",
   "language": "python",
   "name": "python3"
  },
  "language_info": {
   "codemirror_mode": {
    "name": "ipython",
    "version": 3
   },
   "file_extension": ".py",
   "mimetype": "text/x-python",
   "name": "python",
   "nbconvert_exporter": "python",
   "pygments_lexer": "ipython3",
   "version": "3.8.8"
  }
 },
 "nbformat": 4,
 "nbformat_minor": 4
}
