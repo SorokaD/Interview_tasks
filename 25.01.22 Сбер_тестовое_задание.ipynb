{
  "cells": [
    {
      "cell_type": "markdown",
      "metadata": {
        "id": "wgcrXhXF2hdx"
      },
      "source": [
        "### **Задание №1**. Предположим, что у вас в базе есть табличка с балансом по всем счетам клиента на конец дня. Из-за особенностей построения таблицы, часть значений незаполнена и физически это означает отсутствие информации об изменении баланса. Для простоты будем считать, пропущенные значения для одного пользователя не могут встретиться между двумя заполненными. Напишите SQL запрос для заполнения неизвестных значений по каждому клиенту последним известным.\n",
        "\n",
        "client_id |date | value\n",
        "--- | --- | ---\n",
        "1 | 14.04.2020 | 10000\n",
        "1 | 15.04.2020 | 5000\n",
        "1 | 16.04.2020 | NaN\n",
        "1 | 17.04.2020 | NaN\n",
        "1 | 18.04.2020 | NaN\n",
        "2 | 14.04.2020 | 250000\n",
        "2 | 15.04.2020 | 250000\n",
        "2 | 16.04.2020 | 230000\n",
        "2 | 17.04.2020 | 230000\n",
        "2 | 18.04.2020 | 225000\n",
        "3 | 14.04.2020 | 50000\n",
        "3 | 15.04.2020 | NaN\n",
        "3 | 16.04.2020 | NaN\n",
        "3 | 17.04.2020 | NaN\n",
        "3 | 18.04.2020 | NaN\n"
      ]
    },
    {
      "cell_type": "code",
      "execution_count": null,
      "metadata": {
        "id": "319frI6r16vt"
      },
      "outputs": [],
      "source": [
        "-- создаем временную таблицу (из основной) в которой будут: дата \n",
        "-- последнего известного значения по каждому клиенту и значение\n",
        "create temporary table tab1\n",
        "select client_id, max(date), value\n",
        "from sber \n",
        "where value is not null\n",
        "group by client_id;\n",
        "-- делаем update основной таблицы\n",
        "update sber \n",
        "inner join tab1 \n",
        "on sber.client_id=tab1.client_id and sber.value is null\n",
        "set \n",
        "sber.value = tab1.value;\n",
        "-- удаляем временную таблицу\n",
        "drop table tab1;"
      ]
    },
    {
      "cell_type": "markdown",
      "metadata": {
        "id": "_KG06CvbJZbJ"
      },
      "source": [
        "### **Задание №1.1 (*)**. В прошлом задании мы считали, что пропущенные значения не могут находиться между двумя заполненными в рамках одного пользователя, что не всегда правда в реальных задачах. Напишите теперь SQL запрос без указанного допущения.\n",
        "\n",
        "client_id |date | value\n",
        "--- | --- | ---\n",
        "1 | 14.04.2020 | 10000\n",
        "1 | 15.04.2020 | 5000\n",
        "1 | 16.04.2020 | NaN\n",
        "1 | 17.04.2020 | 7000\n",
        "1 | 18.04.2020 | NaN\n",
        "2 | 14.04.2020 | 250000\n",
        "2 | 15.04.2020 | 250000\n",
        "2 | 16.04.2020 | 230000\n",
        "2 | 17.04.2020 | 230000\n",
        "2 | 18.04.2020 | 225000\n",
        "3 | 14.04.2020 | 50000\n",
        "3 | 15.04.2020 | NaN\n",
        "3 | 16.04.2020 | NaN\n",
        "3 | 17.04.2020 | 49000\n",
        "3 | 18.04.2020 | NaN"
      ]
    },
    {
      "cell_type": "code",
      "execution_count": null,
      "metadata": {
        "id": "y39pOtGaJYyL"
      },
      "outputs": [],
      "source": [
        "# <YOUR_CODE_HERE>"
      ]
    },
    {
      "cell_type": "markdown",
      "metadata": {
        "id": "wJpKlNtb5hro"
      },
      "source": [
        "### **Задание №2**. Пусть клиенты обладают рядом статусов, закодированных цифрами: 0 - \"улица\", 1 - \"зарплатник\", 2 - \"премиум\", 3 - \"пенсионер\", 4 - \"студент\". У нас есть матрица с логами смен статусов за некоторый период, разверните ее в матрицу статус - статус с частотами перехода между ними.\n",
        "\n",
        "Пример, как было:\n",
        "\n",
        "client_id | prev_segment | new_segment|\n",
        "--- | --- | ---\n",
        "1 | 0 | 1\n",
        "2 | 0 | 2\n",
        "3 | 4 | 3\n",
        "\n",
        "Пример, как нужно:\n",
        "\n",
        "segment |0 | 1 | 2 | 3 | 4 \n",
        "--- | --- | --- | --- | --- | ---\n",
        "0 | 0 | 0.5 | 0.5 | 0 | 0 \n",
        "1 | 0 |0 | 0 | 0 | 0\n",
        "2 | 0 | 0 | 0 | 0 | 0\n",
        "3 | 0 | 0 | 0 | 0 | 0\n",
        "4 | 0 | 0 | 0 | 1 | 0\n",
        "\n",
        "В процессе выполнения задания разрешается пользоваться библиотеками numpy и pandas."
      ]
    },
    {
      "cell_type": "code",
      "execution_count": 2,
      "metadata": {
        "id": "6Go_dImd5hEt"
      },
      "outputs": [
        {
          "data": {
            "text/html": [
              "<div>\n",
              "<style scoped>\n",
              "    .dataframe tbody tr th:only-of-type {\n",
              "        vertical-align: middle;\n",
              "    }\n",
              "\n",
              "    .dataframe tbody tr th {\n",
              "        vertical-align: top;\n",
              "    }\n",
              "\n",
              "    .dataframe thead th {\n",
              "        text-align: right;\n",
              "    }\n",
              "</style>\n",
              "<table border=\"1\" class=\"dataframe\">\n",
              "  <thead>\n",
              "    <tr style=\"text-align: right;\">\n",
              "      <th></th>\n",
              "      <th>to 0</th>\n",
              "      <th>to 1</th>\n",
              "      <th>to 2</th>\n",
              "      <th>to 3</th>\n",
              "      <th>to 4</th>\n",
              "    </tr>\n",
              "  </thead>\n",
              "  <tbody>\n",
              "    <tr>\n",
              "      <th>From 0</th>\n",
              "      <td>0.00</td>\n",
              "      <td>0.25</td>\n",
              "      <td>0.25</td>\n",
              "      <td>0.25</td>\n",
              "      <td>0.25</td>\n",
              "    </tr>\n",
              "    <tr>\n",
              "      <th>From 1</th>\n",
              "      <td>0.25</td>\n",
              "      <td>0.00</td>\n",
              "      <td>0.25</td>\n",
              "      <td>0.25</td>\n",
              "      <td>0.25</td>\n",
              "    </tr>\n",
              "    <tr>\n",
              "      <th>From 2</th>\n",
              "      <td>0.25</td>\n",
              "      <td>0.25</td>\n",
              "      <td>0.00</td>\n",
              "      <td>0.25</td>\n",
              "      <td>0.25</td>\n",
              "    </tr>\n",
              "    <tr>\n",
              "      <th>From 3</th>\n",
              "      <td>0.25</td>\n",
              "      <td>0.25</td>\n",
              "      <td>0.25</td>\n",
              "      <td>0.00</td>\n",
              "      <td>0.25</td>\n",
              "    </tr>\n",
              "    <tr>\n",
              "      <th>From 4</th>\n",
              "      <td>0.25</td>\n",
              "      <td>0.25</td>\n",
              "      <td>0.25</td>\n",
              "      <td>0.25</td>\n",
              "      <td>0.00</td>\n",
              "    </tr>\n",
              "  </tbody>\n",
              "</table>\n",
              "</div>"
            ],
            "text/plain": [
              "        to 0  to 1  to 2  to 3  to 4\n",
              "From 0  0.00  0.25  0.25  0.25  0.25\n",
              "From 1  0.25  0.00  0.25  0.25  0.25\n",
              "From 2  0.25  0.25  0.00  0.25  0.25\n",
              "From 3  0.25  0.25  0.25  0.00  0.25\n",
              "From 4  0.25  0.25  0.25  0.25  0.00"
            ]
          },
          "execution_count": 2,
          "metadata": {},
          "output_type": "execute_result"
        }
      ],
      "source": [
        "import numpy as np\n",
        "import pandas as pd\n",
        "\n",
        "# Сгенерируем данные для задачи\n",
        "data = pd.DataFrame(\n",
        "    np.random.randint(low=0, high=5, size=(50000000, 2)),\n",
        "    columns=['prev_segment', 'new_segment']\n",
        ")\n",
        "\n",
        "# <YOUR_CODE_HERE>\n",
        "matrix = pd.DataFrame(np.zeros((5, 5)), columns=['to 0','to 1','to 2','to 3','to 4',])\n",
        "shape=pd.Series(np.zeros((5)))\n",
        "for i in range(5):\n",
        "    for j in range(5):\n",
        "# я бы все таки предположил что переход в тот же самый статус - какая-то нелепица, застрахуемся от таких случаев\n",
        "        if i!=j:\n",
        "            matrix.iloc[i,j]=data.query('prev_segment==@i and new_segment==@j').count()[0]\n",
        "            shape[i]=shape[i]+data.query('prev_segment==@i and new_segment==@j').count()[0]\n",
        "matrix=matrix.mul(1/shape, axis=0).round(2)\n",
        "matrix.rename({0:\"From 0\", 1:\"From 1\",2:\"From 2\",3:\"From 3\",4:\"From 4\"}, inplace=True)\n",
        "matrix\n"
      ]
    },
    {
      "cell_type": "markdown",
      "metadata": {
        "id": "zr6Y-GmXNXMm"
      },
      "source": [
        "### **Задание №2.1 (*)**. Если вы не пользовались библиотечными функциями и реализовывали алгоритм самостоятельно, напишите, пожалуйста, его асимптотическую сложность в терминах O-большое."
      ]
    },
    {
      "cell_type": "code",
      "execution_count": null,
      "metadata": {
        "id": "xRKXcJz8NWGF"
      },
      "outputs": [],
      "source": [
        "# <YOUR_CODE_HERE>\n",
        "# Предыдущий алгоритм реализован на 2 циклах (25  итераций)\n",
        "# Этот же алгоритм реализован \"честным\" проходом по всему dataframe, время выполнения этого алгоритма\n",
        "# в десятки раз (не стал дожидаться конца, проверил на меньших наборах данных) превышвет предыдущий.\n",
        "\n",
        "matrix = pd.DataFrame(np.zeros((5, 5)), columns=['to 0','to 1','to 2','to 3','to 4',])\n",
        "shape=pd.Series(np.zeros((5)))\n",
        "for i in range(data.shape[0]):\n",
        "# я бы все таки предположил что переход из статуса1 в, напрмер, статус1 какая-то нелепица, поэтому застрахуемся от таких случаев \n",
        "    if data.iloc[i,0]!=data.iloc[i,1]:\n",
        "        matrix.iloc[data.iloc[i,0], data.iloc[i,1]]=matrix.iloc[data.iloc[i,0], data.iloc[i,1]]+1\n",
        "        shape[data.iloc[i,0]]=shape[data.iloc[i,0]]+1\n",
        "matrix=matrix.mul(1/shape, axis=0).round(2)\n",
        "matrix.rename({0:\"From 0\", 1:\"From 1\",2:\"From 2\",3:\"From 3\",4:\"From 4\"}, inplace=True)\n",
        "matrix\n",
        "\n",
        "# Асимптотическая сложнось этого алгоритма - О(n)"
      ]
    },
    {
      "cell_type": "markdown",
      "metadata": {
        "id": "PCmozMhqNoys"
      },
      "source": [
        "### **Задание №3**. Постройте прогнозую модель для датасета с UCI Machine Learning: предобработайте категориальные фичи, отберите их, соберите схему валидации и отберите модели с помощью нее. Описание датасета по ссылке: https://archive.ics.uci.edu/ml/datasets/Drug+consumption+%28quantified%29\n",
        "\n",
        "Данная задача multilabel multiclass classification, поэтому предлагаю начать с одного из подходов:\n",
        "- Свести задачу к multilabel binary classification, как это указано в описании к датасету;\n",
        "- Свести задачку к binary classification тем или иным способом;\n",
        "- Обучить множество multiclass/binary classification моделей;\n",
        "- Что-то еще, что придет в голову.\n"
      ]
    },
    {
      "cell_type": "code",
      "execution_count": null,
      "metadata": {
        "colab": {
          "base_uri": "https://localhost:8080/"
        },
        "id": "99wiNQQ5Nn2U",
        "outputId": "5eac110e-937a-42b5-a4f3-567ecd39f15e"
      },
      "outputs": [
        {
          "name": "stdout",
          "output_type": "stream",
          "text": [
            "--2021-04-20 07:39:48--  https://archive.ics.uci.edu/ml/machine-learning-databases/00373/drug_consumption.data\n",
            "Resolving archive.ics.uci.edu (archive.ics.uci.edu)... 128.195.10.252\n",
            "Connecting to archive.ics.uci.edu (archive.ics.uci.edu)|128.195.10.252|:443... connected.\n",
            "HTTP request sent, awaiting response... 200 OK\n",
            "Length: 346695 (339K) [application/x-httpd-php]\n",
            "Saving to: ‘drug_consumption.data’\n",
            "\n",
            "drug_consumption.da 100%[===================>] 338.57K  1.28MB/s    in 0.3s    \n",
            "\n",
            "2021-04-20 07:39:48 (1.28 MB/s) - ‘drug_consumption.data’ saved [346695/346695]\n",
            "\n"
          ]
        }
      ],
      "source": [
        "!wget https://archive.ics.uci.edu/ml/machine-learning-databases/00373/drug_consumption.data"
      ]
    },
    {
      "cell_type": "code",
      "execution_count": null,
      "metadata": {
        "colab": {
          "base_uri": "https://localhost:8080/",
          "height": 235
        },
        "id": "lOsvJKfbNRN4",
        "outputId": "d19bcd2c-8105-4c17-cf5c-5a4e4dbfa61a"
      },
      "outputs": [
        {
          "data": {
            "text/html": [
              "<div>\n",
              "<style scoped>\n",
              "    .dataframe tbody tr th:only-of-type {\n",
              "        vertical-align: middle;\n",
              "    }\n",
              "\n",
              "    .dataframe tbody tr th {\n",
              "        vertical-align: top;\n",
              "    }\n",
              "\n",
              "    .dataframe thead th {\n",
              "        text-align: right;\n",
              "    }\n",
              "</style>\n",
              "<table border=\"1\" class=\"dataframe\">\n",
              "  <thead>\n",
              "    <tr style=\"text-align: right;\">\n",
              "      <th></th>\n",
              "      <th>1</th>\n",
              "      <th>2</th>\n",
              "      <th>3</th>\n",
              "      <th>4</th>\n",
              "      <th>5</th>\n",
              "      <th>6</th>\n",
              "      <th>7</th>\n",
              "      <th>8</th>\n",
              "      <th>9</th>\n",
              "      <th>10</th>\n",
              "      <th>11</th>\n",
              "      <th>12</th>\n",
              "      <th>13</th>\n",
              "      <th>14</th>\n",
              "      <th>15</th>\n",
              "      <th>16</th>\n",
              "      <th>17</th>\n",
              "      <th>18</th>\n",
              "      <th>19</th>\n",
              "      <th>20</th>\n",
              "      <th>21</th>\n",
              "      <th>22</th>\n",
              "      <th>23</th>\n",
              "      <th>24</th>\n",
              "      <th>25</th>\n",
              "      <th>26</th>\n",
              "      <th>27</th>\n",
              "      <th>28</th>\n",
              "      <th>29</th>\n",
              "      <th>30</th>\n",
              "      <th>31</th>\n",
              "    </tr>\n",
              "    <tr>\n",
              "      <th>0</th>\n",
              "      <th></th>\n",
              "      <th></th>\n",
              "      <th></th>\n",
              "      <th></th>\n",
              "      <th></th>\n",
              "      <th></th>\n",
              "      <th></th>\n",
              "      <th></th>\n",
              "      <th></th>\n",
              "      <th></th>\n",
              "      <th></th>\n",
              "      <th></th>\n",
              "      <th></th>\n",
              "      <th></th>\n",
              "      <th></th>\n",
              "      <th></th>\n",
              "      <th></th>\n",
              "      <th></th>\n",
              "      <th></th>\n",
              "      <th></th>\n",
              "      <th></th>\n",
              "      <th></th>\n",
              "      <th></th>\n",
              "      <th></th>\n",
              "      <th></th>\n",
              "      <th></th>\n",
              "      <th></th>\n",
              "      <th></th>\n",
              "      <th></th>\n",
              "      <th></th>\n",
              "      <th></th>\n",
              "    </tr>\n",
              "  </thead>\n",
              "  <tbody>\n",
              "    <tr>\n",
              "      <th>1</th>\n",
              "      <td>0.49788</td>\n",
              "      <td>0.48246</td>\n",
              "      <td>-0.05921</td>\n",
              "      <td>0.96082</td>\n",
              "      <td>0.12600</td>\n",
              "      <td>0.31287</td>\n",
              "      <td>-0.57545</td>\n",
              "      <td>-0.58331</td>\n",
              "      <td>-0.91699</td>\n",
              "      <td>-0.00665</td>\n",
              "      <td>-0.21712</td>\n",
              "      <td>-1.18084</td>\n",
              "      <td>CL5</td>\n",
              "      <td>CL2</td>\n",
              "      <td>CL0</td>\n",
              "      <td>CL2</td>\n",
              "      <td>CL6</td>\n",
              "      <td>CL0</td>\n",
              "      <td>CL5</td>\n",
              "      <td>CL0</td>\n",
              "      <td>CL0</td>\n",
              "      <td>CL0</td>\n",
              "      <td>CL0</td>\n",
              "      <td>CL0</td>\n",
              "      <td>CL0</td>\n",
              "      <td>CL0</td>\n",
              "      <td>CL0</td>\n",
              "      <td>CL0</td>\n",
              "      <td>CL2</td>\n",
              "      <td>CL0</td>\n",
              "      <td>CL0</td>\n",
              "    </tr>\n",
              "    <tr>\n",
              "      <th>2</th>\n",
              "      <td>-0.07854</td>\n",
              "      <td>-0.48246</td>\n",
              "      <td>1.98437</td>\n",
              "      <td>0.96082</td>\n",
              "      <td>-0.31685</td>\n",
              "      <td>-0.67825</td>\n",
              "      <td>1.93886</td>\n",
              "      <td>1.43533</td>\n",
              "      <td>0.76096</td>\n",
              "      <td>-0.14277</td>\n",
              "      <td>-0.71126</td>\n",
              "      <td>-0.21575</td>\n",
              "      <td>CL5</td>\n",
              "      <td>CL2</td>\n",
              "      <td>CL2</td>\n",
              "      <td>CL0</td>\n",
              "      <td>CL6</td>\n",
              "      <td>CL4</td>\n",
              "      <td>CL6</td>\n",
              "      <td>CL3</td>\n",
              "      <td>CL0</td>\n",
              "      <td>CL4</td>\n",
              "      <td>CL0</td>\n",
              "      <td>CL2</td>\n",
              "      <td>CL0</td>\n",
              "      <td>CL2</td>\n",
              "      <td>CL3</td>\n",
              "      <td>CL0</td>\n",
              "      <td>CL4</td>\n",
              "      <td>CL0</td>\n",
              "      <td>CL0</td>\n",
              "    </tr>\n",
              "    <tr>\n",
              "      <th>3</th>\n",
              "      <td>0.49788</td>\n",
              "      <td>-0.48246</td>\n",
              "      <td>-0.05921</td>\n",
              "      <td>0.96082</td>\n",
              "      <td>-0.31685</td>\n",
              "      <td>-0.46725</td>\n",
              "      <td>0.80523</td>\n",
              "      <td>-0.84732</td>\n",
              "      <td>-1.62090</td>\n",
              "      <td>-1.01450</td>\n",
              "      <td>-1.37983</td>\n",
              "      <td>0.40148</td>\n",
              "      <td>CL6</td>\n",
              "      <td>CL0</td>\n",
              "      <td>CL0</td>\n",
              "      <td>CL0</td>\n",
              "      <td>CL6</td>\n",
              "      <td>CL3</td>\n",
              "      <td>CL4</td>\n",
              "      <td>CL0</td>\n",
              "      <td>CL0</td>\n",
              "      <td>CL0</td>\n",
              "      <td>CL0</td>\n",
              "      <td>CL0</td>\n",
              "      <td>CL0</td>\n",
              "      <td>CL0</td>\n",
              "      <td>CL0</td>\n",
              "      <td>CL1</td>\n",
              "      <td>CL0</td>\n",
              "      <td>CL0</td>\n",
              "      <td>CL0</td>\n",
              "    </tr>\n",
              "    <tr>\n",
              "      <th>4</th>\n",
              "      <td>-0.95197</td>\n",
              "      <td>0.48246</td>\n",
              "      <td>1.16365</td>\n",
              "      <td>0.96082</td>\n",
              "      <td>-0.31685</td>\n",
              "      <td>-0.14882</td>\n",
              "      <td>-0.80615</td>\n",
              "      <td>-0.01928</td>\n",
              "      <td>0.59042</td>\n",
              "      <td>0.58489</td>\n",
              "      <td>-1.37983</td>\n",
              "      <td>-1.18084</td>\n",
              "      <td>CL4</td>\n",
              "      <td>CL0</td>\n",
              "      <td>CL0</td>\n",
              "      <td>CL3</td>\n",
              "      <td>CL5</td>\n",
              "      <td>CL2</td>\n",
              "      <td>CL4</td>\n",
              "      <td>CL2</td>\n",
              "      <td>CL0</td>\n",
              "      <td>CL0</td>\n",
              "      <td>CL0</td>\n",
              "      <td>CL2</td>\n",
              "      <td>CL0</td>\n",
              "      <td>CL0</td>\n",
              "      <td>CL0</td>\n",
              "      <td>CL0</td>\n",
              "      <td>CL2</td>\n",
              "      <td>CL0</td>\n",
              "      <td>CL0</td>\n",
              "    </tr>\n",
              "    <tr>\n",
              "      <th>5</th>\n",
              "      <td>0.49788</td>\n",
              "      <td>0.48246</td>\n",
              "      <td>1.98437</td>\n",
              "      <td>0.96082</td>\n",
              "      <td>-0.31685</td>\n",
              "      <td>0.73545</td>\n",
              "      <td>-1.63340</td>\n",
              "      <td>-0.45174</td>\n",
              "      <td>-0.30172</td>\n",
              "      <td>1.30612</td>\n",
              "      <td>-0.21712</td>\n",
              "      <td>-0.21575</td>\n",
              "      <td>CL4</td>\n",
              "      <td>CL1</td>\n",
              "      <td>CL1</td>\n",
              "      <td>CL0</td>\n",
              "      <td>CL6</td>\n",
              "      <td>CL3</td>\n",
              "      <td>CL6</td>\n",
              "      <td>CL0</td>\n",
              "      <td>CL0</td>\n",
              "      <td>CL1</td>\n",
              "      <td>CL0</td>\n",
              "      <td>CL0</td>\n",
              "      <td>CL1</td>\n",
              "      <td>CL0</td>\n",
              "      <td>CL0</td>\n",
              "      <td>CL2</td>\n",
              "      <td>CL2</td>\n",
              "      <td>CL0</td>\n",
              "      <td>CL0</td>\n",
              "    </tr>\n",
              "  </tbody>\n",
              "</table>\n",
              "</div>"
            ],
            "text/plain": [
              "        1        2        3        4        5   ...   27   28   29   30   31\n",
              "0                                               ...                         \n",
              "1  0.49788  0.48246 -0.05921  0.96082  0.12600  ...  CL0  CL0  CL2  CL0  CL0\n",
              "2 -0.07854 -0.48246  1.98437  0.96082 -0.31685  ...  CL3  CL0  CL4  CL0  CL0\n",
              "3  0.49788 -0.48246 -0.05921  0.96082 -0.31685  ...  CL0  CL1  CL0  CL0  CL0\n",
              "4 -0.95197  0.48246  1.16365  0.96082 -0.31685  ...  CL0  CL0  CL2  CL0  CL0\n",
              "5  0.49788  0.48246  1.98437  0.96082 -0.31685  ...  CL0  CL2  CL2  CL0  CL0\n",
              "\n",
              "[5 rows x 31 columns]"
            ]
          },
          "execution_count": 10,
          "metadata": {
            "tags": []
          },
          "output_type": "execute_result"
        }
      ],
      "source": [
        "import numpy as np\n",
        "import pandas as pd\n",
        "\n",
        "data = pd.read_csv('drug_consumption.data', header=None, index_col=0)\n",
        "data.head()"
      ]
    },
    {
      "cell_type": "code",
      "execution_count": null,
      "metadata": {
        "id": "CJrdKouqQ40G"
      },
      "outputs": [],
      "source": [
        "# <YOUR_CODE_HERE>"
      ]
    },
    {
      "cell_type": "markdown",
      "metadata": {
        "id": "mctVa1YzQ65C"
      },
      "source": [
        "### **Задание №4**. Предположим, что мы построили рекомендательную систему, и ожидаем, что средний чек клиента вследствие этого должен вырасти. Мы провели AB-тест и собрали данные по контрольной и тестовой группе. Предложите и проведите статистический тест, который можно применить к этим данным.\n",
        "\n",
        "В процессе выполнения задания разрешено пользоваться библиотеками scipy и statsmodels."
      ]
    },
    {
      "cell_type": "code",
      "execution_count": 5,
      "metadata": {
        "id": "ViwZxe1uSLwG"
      },
      "outputs": [
        {
          "data": {
            "text/plain": [
              "MannwhitneyuResult(statistic=4938154307.0, pvalue=8.316869939010767e-07)"
            ]
          },
          "execution_count": 5,
          "metadata": {},
          "output_type": "execute_result"
        }
      ],
      "source": [
        "import numpy as np\n",
        "\n",
        "# Сгенерируем данные для задачи\n",
        "control = np.random.lognormal(mean=5, sigma=2, size=(100000,))\n",
        "test = np.random.lognormal(mean=5.04, sigma=2, size=(100000,))\n",
        "\n",
        "# Выдвинем две гипотезы:\n",
        "# HO - между группами наблюдений control и test нет статистически занчимых различий\n",
        "# H1 - между группами наблюдений control и test есть статистически значимые различия\n",
        "# Проведем оценку наших данных на предмет \"нормальности\", визуально видно - распределение данных категорически не похоже на нормальное,\n",
        "# так же проведя тест Шапиро-Уилка видим, что нормальность к нам не имеет отношения (код не выкладываю, мне кажется в нем нет никакой хитрости).\n",
        "# Распределение наших данных не является нормальным поэтому воспользуемся непараметрикой, тестом Манна-Уитни.\n",
        "\n",
        "from scipy import stats\n",
        "stats.mannwhitneyu(control, test)\n",
        "\n",
        "# На уровне значимости 0,05 отвергаем Н0, т.к. p-value много меньше 0,05\n",
        "# Утверждаем что между группами control и test есть статистически значимые различия."
      ]
    },
    {
      "cell_type": "markdown",
      "metadata": {
        "id": "iaW5kiF3VJhN"
      },
      "source": [
        "### **Задание №4 (*)**. В прошлом задании мы улавливали статистически значимое различие в средних в 0.04 единицы на выборке из 100000 клиентов. Насколько больше нам требуется собрать клиентов, чтобы уловить различие в 0.02?"
      ]
    },
    {
      "cell_type": "code",
      "execution_count": 11,
      "metadata": {
        "id": "nJbyYyIQVfZQ"
      },
      "outputs": [
        {
          "name": "stdout",
          "output_type": "stream",
          "text": [
            "Для того что бы уловить различие в 0.02ед, с мощностью теста 0.8 и альфа=0.05 необходимо  156978  наблюдений.\n"
          ]
        }
      ],
      "source": [
        "# Расчитаем взвешенное стандартное отклонение для выборок (считаем что) одинакового размера\n",
        "import math\n",
        "s_pooled=math.sqrt((4+4)/2)\n",
        "# Расчитаем размер эффекта\n",
        "ES=round(0.02/s_pooled,4)\n",
        "# Расчитаем азмер выборки необходимой для получения такого размера эффекта, с мощностью 0,8 и альфа=0,05\n",
        "from statsmodels.stats.power import TTestIndPower\n",
        "analysis = TTestIndPower()\n",
        "size = analysis.solve_power(ES, power=0.8, alpha=0.05)\n",
        "print('Для того что бы уловить различие в 0.02ед, с мощностью теста 0.8 и альфа=0.05 необходимо ', round(size), ' наблюдений.')"
      ]
    }
  ],
  "metadata": {
    "colab": {
      "collapsed_sections": [],
      "name": "Копия блокнота \"Тестовое задание.ipynb\"",
      "provenance": []
    },
    "kernelspec": {
      "display_name": "Python 3",
      "name": "python3"
    },
    "language_info": {
      "codemirror_mode": {
        "name": "ipython",
        "version": 3
      },
      "file_extension": ".py",
      "mimetype": "text/x-python",
      "name": "python",
      "nbconvert_exporter": "python",
      "pygments_lexer": "ipython3",
      "version": "3.8.8"
    }
  },
  "nbformat": 4,
  "nbformat_minor": 0
}
